{
  "cells": [
    {
      "cell_type": "markdown",
      "metadata": {
        "id": "mvvT5514NyI4"
      },
      "source": [
        "INDEXADOR"
      ]
    },
    {
      "cell_type": "code",
      "execution_count": 1,
      "metadata": {
        "colab": {
          "base_uri": "https://localhost:8080/"
        },
        "id": "PhenJobrOWG2",
        "outputId": "51386f64-f0c2-4411-ca2c-22dec4f69233"
      },
      "outputs": [
        {
          "ename": "ModuleNotFoundError",
          "evalue": "No module named 'chardet'",
          "output_type": "error",
          "traceback": [
            "\u001b[1;31m---------------------------------------------------------------------------\u001b[0m",
            "\u001b[1;31mModuleNotFoundError\u001b[0m                       Traceback (most recent call last)",
            "Cell \u001b[1;32mIn[1], line 5\u001b[0m\n\u001b[0;32m      3\u001b[0m \u001b[38;5;28;01mfrom\u001b[39;00m \u001b[38;5;21;01murllib\u001b[39;00m\u001b[38;5;21;01m.\u001b[39;00m\u001b[38;5;21;01mparse\u001b[39;00m \u001b[38;5;28;01mimport\u001b[39;00m urlparse\n\u001b[0;32m      4\u001b[0m \u001b[38;5;28;01mimport\u001b[39;00m \u001b[38;5;21;01mmath\u001b[39;00m\n\u001b[1;32m----> 5\u001b[0m \u001b[38;5;28;01mimport\u001b[39;00m \u001b[38;5;21;01mchardet\u001b[39;00m\n\u001b[0;32m      7\u001b[0m nltk\u001b[38;5;241m.\u001b[39mdownload(\u001b[38;5;124m'\u001b[39m\u001b[38;5;124mpunkt\u001b[39m\u001b[38;5;124m'\u001b[39m, quiet\u001b[38;5;241m=\u001b[39m\u001b[38;5;28;01mTrue\u001b[39;00m)\n\u001b[0;32m      8\u001b[0m \u001b[38;5;28;01mfrom\u001b[39;00m \u001b[38;5;21;01mnltk\u001b[39;00m\u001b[38;5;21;01m.\u001b[39;00m\u001b[38;5;21;01mtokenize\u001b[39;00m \u001b[38;5;28;01mimport\u001b[39;00m word_tokenize\n",
            "\u001b[1;31mModuleNotFoundError\u001b[0m: No module named 'chardet'"
          ]
        }
      ],
      "source": [
        "import nltk\n",
        "from collections import defaultdict\n",
        "from urllib.parse import urlparse\n",
        "import math\n",
        "import chardet\n",
        "\n",
        "nltk.download('punkt', quiet=True)\n",
        "from nltk.tokenize import word_tokenize\n",
        "from nltk.corpus import stopwords\n",
        "nltk.download('stopwords', quiet=True)\n",
        "\n",
        "class Indexador:\n",
        "    def __init__(self):\n",
        "        self.indice_invertido = defaultdict(lambda: defaultdict(float))\n",
        "        self.documentos = defaultdict(lambda: defaultdict(float))\n",
        "        self.stop_words = set(stopwords.words('portuguese'))\n",
        "        self.total_documentos = 0\n",
        "\n",
        "    def processar_texto(self, texto):\n",
        "        # Tokeniza e remove stop words\n",
        "        palavras = word_tokenize(texto.lower(), language='portuguese')\n",
        "        return [palavra for palavra in palavras if palavra.isalpha() and palavra not in self.stop_words]\n",
        "\n",
        "    def adicionar_documento(self, url, conteudo):\n",
        "        # Detecção de codificação\n",
        "        encoding = chardet.detect(conteudo.encode())['encoding']\n",
        "        # Processamento do conteúdo\n",
        "        palavras = self.processar_texto(conteudo)\n",
        "        palavras_unicas = set(palavras)\n",
        "        # Atualização do índice invertido\n",
        "        for palavra in palavras_unicas:\n",
        "            forca_palavra = self.avaliar_forca_palavra(palavra, conteudo)\n",
        "            self.indice_invertido[palavra][url] += forca_palavra\n",
        "        # Atualização dos documentos indexados\n",
        "        self.documentos[url]['palavras'] = palavras\n",
        "        self.documentos[url]['encoding'] = encoding\n",
        "        self.total_documentos += 1\n",
        "\n",
        "    def avaliar_forca_palavra(self, palavra, conteudo):\n",
        "        # Exemplo simples: a força da palavra é o inverso do número de palavras no conteúdo\n",
        "        num_palavras = len(conteudo.split())\n",
        "        if num_palavras == 0:\n",
        "            return 0.0\n",
        "        return 1 / num_palavras\n",
        "\n",
        "# Exemplo de uso\n",
        "if __name__ == \"__main__\":\n",
        "    indexador = Indexador()\n",
        "\n",
        "    # Exemplo de URLs e conteúdos\n",
        "    urls_conteudos = {\n",
        "        \"https://www.mariana.mg.gov.br/\": \"Conteúdo da página de Mariana\",\n",
        "        \"https://www1.barbacena.mg.gov.br/\": \"Conteúdo da página de Barbacena\"\n",
        "    }\n",
        "\n",
        "    # Adicionando documentos ao índice\n",
        "    for url, conteudo in urls_conteudos.items():\n",
        "        indexador.adicionar_documento(url, conteudo)\n",
        "\n",
        "    # Exemplo de acesso ao índice invertido\n",
        "    print(\"Índice Invertido:\")\n",
        "    for palavra, ocorrencias in indexador.indice_invertido.items():\n",
        "        print(f\"{palavra}: {ocorrencias}\")\n",
        "\n",
        "    # Exemplo de acesso ao número total de documentos indexados\n",
        "    print(f\"Total de documentos indexados: {indexador.total_documentos}\")\n",
        "\n",
        "    # Exemplo de acesso aos documentos indexados\n",
        "    print(\"\\nDocumentos indexados:\")\n",
        "    for url, info in indexador.documentos.items():\n",
        "        print(f\"URL: {url}\")\n",
        "        print(f\"Palavras: {info['palavras']}\")\n",
        "        print(f\"Encoding: {info['encoding']}\")\n",
        "        print()"
      ]
    }
  ],
  "metadata": {
    "colab": {
      "provenance": []
    },
    "kernelspec": {
      "display_name": "Python 3",
      "name": "python3"
    },
    "language_info": {
      "codemirror_mode": {
        "name": "ipython",
        "version": 3
      },
      "file_extension": ".py",
      "mimetype": "text/x-python",
      "name": "python",
      "nbconvert_exporter": "python",
      "pygments_lexer": "ipython3",
      "version": "3.11.3"
    }
  },
  "nbformat": 4,
  "nbformat_minor": 0
}
