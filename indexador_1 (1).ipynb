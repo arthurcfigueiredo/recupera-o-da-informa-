{
  "nbformat": 4,
  "nbformat_minor": 0,
  "metadata": {
    "colab": {
      "provenance": []
    },
    "kernelspec": {
      "name": "python3",
      "display_name": "Python 3"
    },
    "language_info": {
      "name": "python"
    }
  },
  "cells": [
    {
      "cell_type": "markdown",
      "source": [
        "INDEXADOR"
      ],
      "metadata": {
        "id": "mvvT5514NyI4"
      }
    },
    {
      "cell_type": "code",
      "source": [
        "import nltk\n",
        "from collections import defaultdict\n",
        "from urllib.parse import urlparse\n",
        "import math\n",
        "import chardet\n",
        "\n",
        "nltk.download('punkt', quiet=True)\n",
        "from nltk.tokenize import word_tokenize\n",
        "from nltk.corpus import stopwords\n",
        "nltk.download('stopwords', quiet=True)\n",
        "\n",
        "class Indexador:\n",
        "    def __init__(self):\n",
        "        self.indice_invertido = defaultdict(lambda: defaultdict(float))\n",
        "        self.documentos = defaultdict(lambda: defaultdict(float))\n",
        "        self.stop_words = set(stopwords.words('portuguese'))\n",
        "        self.total_documentos = 0\n",
        "\n",
        "    def processar_texto(self, texto):\n",
        "        # Tokeniza e remove stop words\n",
        "        palavras = word_tokenize(texto.lower(), language='portuguese')\n",
        "        return [palavra for palavra in palavras if palavra.isalpha() and palavra not in self.stop_words]\n",
        "\n",
        "    def adicionar_documento(self, url, conteudo):\n",
        "        # Detecção de codificação\n",
        "        encoding = chardet.detect(conteudo.encode())['encoding']\n",
        "        # Processamento do conteúdo\n",
        "        palavras = self.processar_texto(conteudo)\n",
        "        palavras_unicas = set(palavras)\n",
        "        # Atualização do índice invertido\n",
        "        for palavra in palavras_unicas:\n",
        "            forca_palavra = self.avaliar_forca_palavra(palavra, conteudo)\n",
        "            self.indice_invertido[palavra][url] += forca_palavra\n",
        "        # Atualização dos documentos indexados\n",
        "        self.documentos[url]['palavras'] = palavras\n",
        "        self.documentos[url]['encoding'] = encoding\n",
        "        self.total_documentos += 1\n",
        "\n",
        "    def avaliar_forca_palavra(self, palavra, conteudo):\n",
        "        # Exemplo simples: a força da palavra é o inverso do número de palavras no conteúdo\n",
        "        num_palavras = len(conteudo.split())\n",
        "        if num_palavras == 0:\n",
        "            return 0.0\n",
        "        return 1 / num_palavras\n",
        "\n",
        "# Exemplo de uso\n",
        "if __name__ == \"__main__\":\n",
        "    indexador = Indexador()\n",
        "\n",
        "    # Exemplo de URLs e conteúdos\n",
        "    urls_conteudos = {\n",
        "        \"https://www.mariana.mg.gov.br/\": \"Conteúdo da página de Mariana\",\n",
        "        \"https://www1.barbacena.mg.gov.br/\": \"Conteúdo da página de Barbacena\"\n",
        "    }\n",
        "\n",
        "    # Adicionando documentos ao índice\n",
        "    for url, conteudo in urls_conteudos.items():\n",
        "        indexador.adicionar_documento(url, conteudo)\n",
        "\n",
        "    # Exemplo de acesso ao índice invertido\n",
        "    print(\"Índice Invertido:\")\n",
        "    for palavra, ocorrencias in indexador.indice_invertido.items():\n",
        "        print(f\"{palavra}: {ocorrencias}\")\n",
        "\n",
        "    # Exemplo de acesso ao número total de documentos indexados\n",
        "    print(f\"Total de documentos indexados: {indexador.total_documentos}\")\n",
        "\n",
        "    # Exemplo de acesso aos documentos indexados\n",
        "    print(\"\\nDocumentos indexados:\")\n",
        "    for url, info in indexador.documentos.items():\n",
        "        print(f\"URL: {url}\")\n",
        "        print(f\"Palavras: {info['palavras']}\")\n",
        "        print(f\"Encoding: {info['encoding']}\")\n",
        "        print()"
      ],
      "metadata": {
        "colab": {
          "base_uri": "https://localhost:8080/"
        },
        "id": "PhenJobrOWG2",
        "outputId": "41a422d0-ced7-46a1-bf35-391d7f47c826"
      },
      "execution_count": null,
      "outputs": [
        {
          "output_type": "stream",
          "name": "stdout",
          "text": [
            "Índice Invertido:\n",
            "página: defaultdict(<class 'float'>, {'https://www.mariana.mg.gov.br/': 0.2, 'https://www1.barbacena.mg.gov.br/': 0.2})\n",
            "conteúdo: defaultdict(<class 'float'>, {'https://www.mariana.mg.gov.br/': 0.2, 'https://www1.barbacena.mg.gov.br/': 0.2})\n",
            "mariana: defaultdict(<class 'float'>, {'https://www.mariana.mg.gov.br/': 0.2})\n",
            "barbacena: defaultdict(<class 'float'>, {'https://www1.barbacena.mg.gov.br/': 0.2})\n",
            "Total de documentos indexados: 2\n",
            "\n",
            "Documentos indexados:\n",
            "URL: https://www.mariana.mg.gov.br/\n",
            "Palavras: ['conteúdo', 'página', 'mariana']\n",
            "Encoding: utf-8\n",
            "\n",
            "URL: https://www1.barbacena.mg.gov.br/\n",
            "Palavras: ['conteúdo', 'página', 'barbacena']\n",
            "Encoding: utf-8\n",
            "\n"
          ]
        }
      ]
    }
  ]
}