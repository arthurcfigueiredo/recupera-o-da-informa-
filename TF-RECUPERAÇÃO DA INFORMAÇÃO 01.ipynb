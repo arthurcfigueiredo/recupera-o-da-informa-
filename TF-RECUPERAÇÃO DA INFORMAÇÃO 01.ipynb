{
 "cells": [
  {
   "cell_type": "markdown",
   "metadata": {},
   "source": [
    "INSTITUTO FEDERAL DE MINAS GERAIS - CAMPUS OURO PRETO\n",
    "RECUPERAÇÃÕ DA INFORMAÇÃO\n",
    "PROFESSOR: DR.MOÍSES PEREIRA   \n",
    "ALUNO:ARTHUR CARDOSO FIGUEIREDO"
   ]
  },
  {
   "cell_type": "markdown",
   "metadata": {},
   "source": [
    "JUSTIFICATIVA EM TRABALHAR COM SITES DE PREFEITURAS:\n",
    "Variedade de Informações: Sites de prefeituras contêm muitos tipos de informações úteis, desde serviços públicos até notícias locais.\n",
    "Transparência e Acesso Público: Melhorar a busca nesses sites ajuda a tornar a informação governamental mais acessível a todos, promovendo a transparência.\n",
    "Desafios Técnicos: A complexidade e a diversidade dos dados oferecem uma ótima oportunidade para desenvolver e testar novas técnicas de RI.\n",
    "Impacto Social: Facilitar o acesso à informação pode melhorar a participação dos cidadãos na sociedade e nos processos democráticos.\n",
    "Feedback Real: A alta utilização desses sites pelo público fornece dados valiosos para avaliar e aprimorar os métodos de RI aplicados.\n",
    "\n",
    "    DESAFIO: Com o estudo abaixo seria possível aplicar de maneira efetiva e que traga resultados relevates para sequência de recuperação da informação.\n"
   ]
  },
  {
   "cell_type": "code",
   "execution_count": 1,
   "metadata": {},
   "outputs": [
    {
     "name": "stdout",
     "output_type": "stream",
     "text": [
      "URL: https://www.mariana.mg.gov.br/ - Texto <h1>: DESTAQUES\n",
      "URL: https://www.mariana.mg.gov.br/m9auth/login - Texto <h1>: Área de Acesso dos Fornecedores\n",
      "URL: https://www.mariana.mg.gov.br/telefones-uteis - Texto <h1>: Telefones úteis\n",
      "URL: https://www.mariana.mg.gov.br/coleta-seletiva - Texto <h1>: Coleta seletiva\n",
      "URL: https://twitter.com/prefmariana - Texto <h1>: This browser is no longer supported.\n",
      "URL: http://sinemariana.com.br/ - Texto <h1>: para você\n",
      "URL: http://sinemariana.com.br/ - Texto <h1>: outros serviços\n",
      "URL: https://www.mariana.mg.gov.br/licitacoes-sistema%2Fpesquisa - Texto <h1>: Erro 404 - Página não encontrada\n",
      "URL: https://www.mariana.mg.gov.br/m9auth/forgot-password - Texto <h1>: Esqueceu a senha?\n",
      "URL: https://www.mariana.mg.gov.br/intencao-de-compra-direta - Texto <h1>: Intenção de compra direta\n",
      "URL: https://www.mariana.mg.gov.br/gabinete-do-prefeito - Texto <h1>: Gabinete do Prefeito\n",
      "URL: https://www.mariana.mg.gov.br/nossos-portais - Texto <h1>: NOSSOS PORTAIS\n",
      "URL: https://www.mariana.mg.gov.br/nossos-portais - Texto <h1>: NOSSOS PORTAIS\n",
      "URL: https://www.mariana.mg.gov.br/legislacao - Texto <h1>: Legislação\n",
      "URL: https://www.mariana.mg.gov.br/portal-do-contribuinte - Texto <h1>: Portal do Contribuinte\n",
      "URL: https://www.mariana.mg.gov.br/onibus - Texto <h1>: Horário de Ônibus\n",
      "URL: https://www.mariana.mg.gov.br/secretarias - Texto <h1>: Secretarias\n",
      "URL: https://www.mariana.mg.gov.br/hino-e-bandeira - Texto <h1>: Hino e Bandeira\n",
      "URL: https://www.mariana.mg.gov.br/historico - Texto <h1>: Histórico\n",
      "URL: https://www.mariana.mg.gov.br/contato - Texto <h1>: Contato\n",
      "URL: https://www.mariana.mg.gov.br/todos-distritos - Texto <h1>: Distritos de Mariana\n",
      "URL: https://www.mariana.mg.gov.br/localizacao - Texto <h1>: Localização\n",
      "URL: https://www.mariana.mg.gov.br/gabinete-do-vice - Texto <h1>: Gabinete do Vice\n",
      "URL: https://leismunicipais.com.br/prefeitura/mg/mariana - Texto <h1>: Legislação Municipal deMariana/MG\n",
      "URL: https://leismunicipais.com.br/prefeitura/mg/mariana - Texto <h1>: Termos de Uso e Políticas de Privacidade\n",
      "URL: https://www.mariana.mg.gov.br/sala-de-imprensa - Texto <h1>: Sala de imprensa\n",
      "URL: https://www.mariana.mg.gov.br/diario-oficial-pmm - Texto <h1>: O Monumento - Diário Oficial\n",
      "URL: https://e-gov.betha.com.br/livroeletronico2/02022-038/login.faces?lastUrl=/selecaodemodulo.faces - Texto <h1>: Livro Eletrônico\n",
      "URL: https://www.mariana.mg.gov.br/dados-demograficos - Texto <h1>: Dados demográficos\n",
      "URL: https://www.mariana.mg.gov.br/licitacoes-sistema/pesquisa - Texto <h1>: Pesquisar Licitações\n",
      "URL: https://www.mariana.mg.gov.br/licitacoes-sistema/pesquisa - Texto <h1>: Pesquisar por Status\n",
      "URL: https://www.mariana.mg.gov.br/nota-fiscal-eletronica - Texto <h1>: Nota Fiscal Eletrônica\n",
      "URL: https://www.mariana.mg.gov.br/noticias-categoria/concursos - Texto <h1>: Concursos\n",
      "URL: https://www.mariana.mg.gov.br/procon - Texto <h1>: Procon\n",
      "URL: https://www.mariana.mg.gov.br/noticias-categoria/processos-seletivos - Texto <h1>: Processos seletivos\n",
      "URL: https://www.mariana.mg.gov.br/conselhos-municipais - Texto <h1>: Conselhos Municipais\n"
     ]
    },
    {
     "name": "stderr",
     "output_type": "stream",
     "text": [
      "Some characters could not be decoded, and were replaced with REPLACEMENT CHARACTER.\n",
      "Some characters could not be decoded, and were replaced with REPLACEMENT CHARACTER.\n",
      "Some characters could not be decoded, and were replaced with REPLACEMENT CHARACTER.\n",
      "Some characters could not be decoded, and were replaced with REPLACEMENT CHARACTER.\n",
      "Some characters could not be decoded, and were replaced with REPLACEMENT CHARACTER.\n",
      "Some characters could not be decoded, and were replaced with REPLACEMENT CHARACTER.\n",
      "Some characters could not be decoded, and were replaced with REPLACEMENT CHARACTER.\n",
      "Some characters could not be decoded, and were replaced with REPLACEMENT CHARACTER.\n",
      "Some characters could not be decoded, and were replaced with REPLACEMENT CHARACTER.\n",
      "Some characters could not be decoded, and were replaced with REPLACEMENT CHARACTER.\n",
      "Some characters could not be decoded, and were replaced with REPLACEMENT CHARACTER.\n",
      "Some characters could not be decoded, and were replaced with REPLACEMENT CHARACTER.\n",
      "Some characters could not be decoded, and were replaced with REPLACEMENT CHARACTER.\n",
      "Some characters could not be decoded, and were replaced with REPLACEMENT CHARACTER.\n"
     ]
    },
    {
     "name": "stdout",
     "output_type": "stream",
     "text": [
      "URL: https://mariana.mg.gov.br/diario-oficial-pmm - Texto <h1>: O Monumento - Diário Oficial\n"
     ]
    },
    {
     "name": "stderr",
     "output_type": "stream",
     "text": [
      "Some characters could not be decoded, and were replaced with REPLACEMENT CHARACTER.\n"
     ]
    },
    {
     "name": "stdout",
     "output_type": "stream",
     "text": [
      "Erro ao acessar javascript:void(0): No connection adapters were found for 'javascript:void(0)'\n",
      "URL: https://lph.ichs.ufop.br/arquivo-hist%C3%B3rico-1/ - Texto <h1>: LPH\n",
      "URL: https://lph.ichs.ufop.br/arquivo-hist%C3%B3rico-1/ - Texto <h1>: AHCMM - Arquivo Histórico da Câmara Municipal de Mariana\n",
      "URL: https://lph.ichs.ufop.br/arquivo-hist%C3%B3rico-1/ - Texto <h1>: .\n",
      "URL: https://lph.ichs.ufop.br/arquivo-hist%C3%B3rico-1/ - Texto <h1>: .\n",
      "URL: https://lph.ichs.ufop.br/arquivo-hist%C3%B3rico-1/ - Texto <h1>: Comunicado\n",
      "URL: https://lph.ichs.ufop.br/arquivo-hist%C3%B3rico-1/ - Texto <h1>: Comunicado sobre o feriado do dia 20/11/2023\n",
      "URL: https://lph.ichs.ufop.br/arquivo-hist%C3%B3rico-1/ - Texto <h1>: Convite para o debate sobre a História do Vinho em arquivos de Portugal e do Brasil\n",
      "URL: https://lph.ichs.ufop.br/arquivo-hist%C3%B3rico-1/ - Texto <h1>: Comunicado sobre o feriado do dia 27/10/2023\n"
     ]
    },
    {
     "name": "stderr",
     "output_type": "stream",
     "text": [
      "Some characters could not be decoded, and were replaced with REPLACEMENT CHARACTER.\n",
      "Some characters could not be decoded, and were replaced with REPLACEMENT CHARACTER.\n"
     ]
    },
    {
     "name": "stdout",
     "output_type": "stream",
     "text": [
      "Erro ao acessar callto:+553135576200: No connection adapters were found for 'callto:+553135576200'\n",
      "Erro ao acessar mailto:contato@camarademariana.mg.gov.br: No connection adapters were found for 'mailto:contato@camarademariana.mg.gov.br'\n"
     ]
    },
    {
     "name": "stderr",
     "output_type": "stream",
     "text": [
      "Some characters could not be decoded, and were replaced with REPLACEMENT CHARACTER.\n",
      "Some characters could not be decoded, and were replaced with REPLACEMENT CHARACTER.\n"
     ]
    },
    {
     "name": "stdout",
     "output_type": "stream",
     "text": [
      "URL: https://twitter.com/camarademariana - Texto <h1>: This browser is no longer supported.\n",
      "URL: https://cm-mariana.sgpcloud.com.br/sgp/pse/comprovanterendimentos/pesquisa/ - Texto <h1>: Transparźncia\n",
      "URL: https://turismo.mariana.mg.gov.br/ - Texto <h1>: Turismo rural\n",
      "URL: https://turismo.mariana.mg.gov.br/ - Texto <h1>: Atrativos\n",
      "URL: https://turismo.mariana.mg.gov.br/ - Texto <h1>: Distritos\n",
      "URL: https://turismo.mariana.mg.gov.br/atrativos/religiosos/ - Texto <h1>: Atrativos Religiosos\n",
      "URL: https://turismo.mariana.mg.gov.br/roteiros-sugeridos - Texto <h1>: Roteiros sugeridos\n",
      "URL: https://circuitodoouro.tur.br/ - Texto <h1>: O interior de Minas te aguarda!\n",
      "URL: https://circuitodoouro.tur.br/ - Texto <h1>: Entre Serras: da Piedade ao Caraça\n",
      "URL: https://circuitodoouro.tur.br/ - Texto <h1>: Entre Trilhas, Sabores e Aromas\n",
      "URL: https://circuitodoouro.tur.br/ - Texto <h1>: Entre Cenários da História\n",
      "URL: https://circuitodoouro.tur.br/ - Texto <h1>: Entre Ruralidades e Personalidades\n",
      "URL: https://turismo.mariana.mg.gov.br/onde-comer - Texto <h1>: Onde comer\n",
      "URL: https://turismo.mariana.mg.gov.br/distritos/claudio-manoel - Texto <h1>: Cláudio Manoel\n",
      "URL: https://turismo.mariana.mg.gov.br/mapas - Texto <h1>: Mapas\n",
      "URL: https://turismo.mariana.mg.gov.br/apresentacao-e-historico - Texto <h1>: Apresentação e Histórico\n",
      "URL: https://turismo.mariana.mg.gov.br/como-chegar - Texto <h1>: Como chegar\n",
      "URL: https://turismo.mariana.mg.gov.br/distritos/bandeirantes - Texto <h1>: Bandeirantes\n",
      "URL: https://turismo.mariana.mg.gov.br/distritos/santa-rita-durao - Texto <h1>: Santa Rita Durão\n",
      "URL: https://turismo.mariana.mg.gov.br/atrativos/culturais/ - Texto <h1>: Atrativos Culturais\n",
      "URL: https://turismo.mariana.mg.gov.br/todos-distritos - Texto <h1>: Distritos de Mariana\n",
      "URL: https://turismo.mariana.mg.gov.br/turismo-rural - Texto <h1>: Turismo Rural\n",
      "URL: https://turismo.mariana.mg.gov.br/telefones-uteis - Texto <h1>: Telefones úteis\n",
      "URL: https://turismo.mariana.mg.gov.br/atrativos_com_pesquisa - Texto <h1>: Atrativos\n",
      "Erro ao acessar https://www.cidadeshistoricasdeminas.com.br/: HTTPSConnectionPool(host='www.cidadeshistoricasdeminas.com.br', port=443): Max retries exceeded with url: / (Caused by NameResolutionError(\"<urllib3.connection.HTTPSConnection object at 0x00000205A9861590>: Failed to resolve 'www.cidadeshistoricasdeminas.com.br' ([Errno 11001] getaddrinfo failed)\"))\n",
      "URL: https://turismo.mariana.mg.gov.br/noticia/82/mariana-alegria-o-retorno-da-folia - Texto <h1>: Mariana Alegria - O Retorno da Folia\n",
      "URL: https://turismo.mariana.mg.gov.br/horarios-de-onibus - Texto <h1>: Horários de ônibus\n",
      "URL: https://turismo.mariana.mg.gov.br/atrativos - Texto <h1>: Atrativo\n",
      "URL: https://turismo.mariana.mg.gov.br/associacao-de-guias-de-turismo - Texto <h1>: Associação de guias de turismo\n",
      "URL: https://turismo.mariana.mg.gov.br/atrativos/civis/ - Texto <h1>: Atrativos Civis\n",
      "URL: https://turismo.mariana.mg.gov.br/atrativos/naturais/ - Texto <h1>: Atrativos Naturais\n",
      "URL: https://turismo.mariana.mg.gov.br/cat - Texto <h1>: CAT\n",
      "Erro ao acessar javascript:void(0): No connection adapters were found for 'javascript:void(0)'\n",
      "URL: https://turismo.mariana.mg.gov.br/noticias - Texto <h1>: Notícias\n",
      "URL: https://turismo.mariana.mg.gov.br/distritos/cachoeira-do-brumado - Texto <h1>: Cachoeira do Brumado\n",
      "URL: https://turismo.mariana.mg.gov.br/noticia/83/genesis-joao-bosco-e-orquestra-ouro-preto - Texto <h1>: Gênesis - João Bosco e Orquestra Ouro Preto\n",
      "URL: https://turismo.mariana.mg.gov.br/receptivos-turisticos - Texto <h1>: Receptivos Turísticos\n",
      "URL: https://turismo.mariana.mg.gov.br/distritos/aguas-claras - Texto <h1>: Águas Claras\n",
      "URL: https://turismo.mariana.mg.gov.br/contato - Texto <h1>: Contato\n",
      "URL: https://turismo.mariana.mg.gov.br/marianatur - Texto <h1>: Marianatur\n",
      "URL: https://turismo.mariana.mg.gov.br/distritos/monsenhor-horta - Texto <h1>: Monsenhor Horta\n",
      "URL: https://turismo.mariana.mg.gov.br/eventos - Texto <h1>: Eventos\n",
      "URL: https://turismo.mariana.mg.gov.br/onde-comprar - Texto <h1>: Onde comprar\n",
      "URL: https://turismo.mariana.mg.gov.br/distritos/furquim - Texto <h1>: Furquim\n",
      "URL: https://turismo.mariana.mg.gov.br/onde-ficar - Texto <h1>: Onde ficar\n",
      "URL: https://turismo.mariana.mg.gov.br/noticia/81/passeios-off-road-em-passagem-de-mariana - Texto <h1>: Passeios Off Road em Passagem de Mariana\n",
      "URL: https://turismo.mariana.mg.gov.br/distritos/padre-viegas - Texto <h1>: Padre Viegas\n",
      "URL: https://e-gov.betha.com.br:443/e-nota/login.faces - Texto <h1>: Fly e-Nota\n",
      "URL: https://e-gov.betha.com.br:443/e-nota/verificar_autenticidade_rps.faces - Texto <h1>: Fly e-Nota\n",
      "URL: https://e-gov.betha.com.br/e-nota-test/ambienteteste.faces - Texto <h1>: Fly e-Nota\n",
      "URL: https://e-gov.betha.com.br:443/e-nota/formulario_ambiente_teste.faces - Texto <h1>: Fly e-Nota\n",
      "URL: https://e-gov.betha.com.br:443/e-nota/solicitacaoacesso/pesquisa_entidade.faces - Texto <h1>: Fly e-Nota\n",
      "URL: https://e-gov.betha.com.br:443/e-nota/solicitacaoacesso/pesquisa_entidade.faces - Texto <h1>: Prefeitura\n",
      "URL: https://e-gov.betha.com.br:443/e-nota/verificar_autenticidade.faces - Texto <h1>: Fly e-Nota\n",
      "URL: https://e-gov.betha.com.br:443/e-nota-test/login.faces - Texto <h1>: Fly e-Nota\n",
      "URL: https://e-gov.betha.com.br:443/e-nota/denuncia_fiscal.faces - Texto <h1>: Fly e-Nota\n",
      "URL: https://ajuda.betha.cloud/ - Texto <h1>: Como podemos lhe ajudar?\n",
      "URL: https://ajuda.betha.cloud/ - Texto <h1>: Sem acesso ao sistema?\n",
      "URL: https://ajuda.betha.cloud/ - Texto <h1>: Conheça aCentral do usuário!\n",
      "URL: https://ajuda.betha.cloud/ - Texto <h1>: Arrecadação\n",
      "URL: https://ajuda.betha.cloud/ - Texto <h1>: Atendimento\n",
      "URL: https://ajuda.betha.cloud/ - Texto <h1>: Contábil\n",
      "URL: https://ajuda.betha.cloud/ - Texto <h1>: Contratos\n",
      "URL: https://ajuda.betha.cloud/ - Texto <h1>: Educação\n",
      "URL: https://ajuda.betha.cloud/ - Texto <h1>: ISS\n",
      "URL: https://ajuda.betha.cloud/ - Texto <h1>: NoPaper\n",
      "URL: https://ajuda.betha.cloud/ - Texto <h1>: Pessoal\n",
      "URL: https://ajuda.betha.cloud/ - Texto <h1>: Saúde\n"
     ]
    },
    {
     "name": "stderr",
     "output_type": "stream",
     "text": [
      "Some characters could not be decoded, and were replaced with REPLACEMENT CHARACTER.\n"
     ]
    },
    {
     "name": "stdout",
     "output_type": "stream",
     "text": [
      "URL: https://e-gov.betha.com.br:443/e-nota/creditos_tributarios.faces - Texto <h1>: Fly e-Nota\n"
     ]
    },
    {
     "name": "stderr",
     "output_type": "stream",
     "text": [
      "Some characters could not be decoded, and were replaced with REPLACEMENT CHARACTER.\n"
     ]
    },
    {
     "name": "stdout",
     "output_type": "stream",
     "text": [
      "Erro ao acessar http://forum.betha.com.br: HTTPConnectionPool(host='forum.betha.com.br', port=80): Max retries exceeded with url: / (Caused by ConnectTimeoutError(<urllib3.connection.HTTPConnection object at 0x00000205A96F5B50>, 'Connection to forum.betha.com.br timed out. (connect timeout=None)'))\n",
      "Erro ao acessar javascript:void(0);: No connection adapters were found for 'javascript:void(0);'\n",
      "URL: https://support.microsoft.com/en-us/windows/internet-explorer-downloads-d49e1f0d-571c-9a7b-d97e-be248806ca70 - Texto <h1>: Internet Explorer Downloads\n",
      "URL: https://e-gov.betha.com.br/basefly01025/requisitos.jsp?url=https%3A%2F%2Fe-gov.betha.com.br%2Fe-nota&idApp=e-nota&titleApp=Fly%20e-Nota&flyApp= - Texto <h1>: Fly e-Nota\n",
      "URL: https://e-gov.betha.com.br:443/e-nota/pesquisa_prestadores.faces - Texto <h1>: Fly e-Nota\n",
      "URL: https://mariana.mg.gov.br/portal-do-contribuinte - Texto <h1>: Portal do Contribuinte\n",
      "URL: https://mariana.mg.gov.br/m9auth/login - Texto <h1>: Área de Acesso dos Fornecedores\n",
      "URL: https://mariana.mg.gov.br/.%5Ciss-portal-do-contribuinte - Texto <h1>: Erro 404 - Página não encontrada\n",
      "URL: https://mariana.mg.gov.br/.%5Cprocessos-portal-do-contribuinte - Texto <h1>: Erro 404 - Página não encontrada\n",
      "URL: https://mariana.mg.gov.br/intencao-de-compra-direta - Texto <h1>: Intenção de compra direta\n",
      "URL: https://mariana.mg.gov.br/noticias-categoria/concursos - Texto <h1>: Concursos\n",
      "URL: https://mariana.mg.gov.br/.%5Cnf-portal-do-contribuinte - Texto <h1>: Erro 404 - Página não encontrada\n",
      "URL: https://mariana.mg.gov.br/ - Texto <h1>: DESTAQUES\n",
      "URL: https://mariana.mg.gov.br/noticias-categoria/processos-seletivos - Texto <h1>: Processos seletivos\n",
      "URL: https://mariana.mg.gov.br/secretarias - Texto <h1>: Secretarias\n",
      "URL: https://mariana.mg.gov.br/gabinete-do-prefeito - Texto <h1>: Gabinete do Prefeito\n",
      "URL: https://mariana.mg.gov.br/legislacao - Texto <h1>: Legislação\n",
      "URL: https://mariana.mg.gov.br/sala-de-imprensa - Texto <h1>: Sala de imprensa\n",
      "URL: https://mariana.mg.gov.br/nossos-portais - Texto <h1>: NOSSOS PORTAIS\n",
      "URL: https://mariana.mg.gov.br/nossos-portais - Texto <h1>: NOSSOS PORTAIS\n",
      "URL: https://mariana.mg.gov.br/hino-e-bandeira - Texto <h1>: Hino e Bandeira\n",
      "URL: https://mariana.mg.gov.br/licitacoes-sistema%2Fpesquisa - Texto <h1>: Erro 404 - Página não encontrada\n",
      "URL: https://mariana.mg.gov.br/contato - Texto <h1>: Contato\n",
      "URL: https://mariana.mg.gov.br/.%5Cdivida-ativa-portal-do-contribuinte - Texto <h1>: Erro 404 - Página não encontrada\n",
      "URL: https://mariana.mg.gov.br/.%5Ccadastro-imobiliario-portal-do-contribuinte - Texto <h1>: Erro 404 - Página não encontrada\n",
      "URL: https://mariana.mg.gov.br/todos-distritos - Texto <h1>: Distritos de Mariana\n",
      "URL: https://mariana.mg.gov.br/gabinete-do-vice - Texto <h1>: Gabinete do Vice\n",
      "URL: https://mariana.mg.gov.br/.%5Cfiscalizacao-portal-do-contribuinte - Texto <h1>: Erro 404 - Página não encontrada\n",
      "URL: https://mariana.mg.gov.br/.%5Calvara-portal-do-contribuinte - Texto <h1>: Erro 404 - Página não encontrada\n",
      "URL: https://mariana.mg.gov.br/telefones-uteis - Texto <h1>: Telefones úteis\n",
      "URL: https://mariana.mg.gov.br/dados-demograficos - Texto <h1>: Dados demográficos\n",
      "URL: https://mariana.mg.gov.br/.%5Clegislacao-portal-do-contribuinte - Texto <h1>: Erro 404 - Página não encontrada\n",
      "URL: https://mariana.mg.gov.br/historico - Texto <h1>: Histórico\n",
      "URL: https://mariana.mg.gov.br/licitacoes-sistema/pesquisa - Texto <h1>: Pesquisar Licitações\n",
      "URL: https://mariana.mg.gov.br/licitacoes-sistema/pesquisa - Texto <h1>: Pesquisar por Status\n",
      "URL: https://mariana.mg.gov.br/nota-fiscal-eletronica - Texto <h1>: Nota Fiscal Eletrônica\n",
      "URL: https://mariana.mg.gov.br/.%5Cviabilidade-portal-do-contribuinte - Texto <h1>: Erro 404 - Página não encontrada\n",
      "URL: https://mariana.mg.gov.br/coleta-seletiva - Texto <h1>: Coleta seletiva\n",
      "URL: https://mariana.mg.gov.br/localizacao - Texto <h1>: Localização\n",
      "URL: https://mariana.mg.gov.br/procon - Texto <h1>: Procon\n",
      "URL: https://mariana.mg.gov.br/.%5Ccertidoes-portal-do-contribuinte - Texto <h1>: Erro 404 - Página não encontrada\n",
      "URL: https://mariana.mg.gov.br/.%5Ciptu-portal-do-contribuinte - Texto <h1>: Erro 404 - Página não encontrada\n",
      "URL: https://mariana.mg.gov.br/onibus - Texto <h1>: Horário de Ônibus\n",
      "URL: https://mariana.mg.gov.br/.%5Clivro-eletronico-portal-do-contribuinte - Texto <h1>: Erro 404 - Página não encontrada\n",
      "URL: https://www.mariana.mg.gov.br/noticia/8234/prefeitura-de-mariana-realiza-dia-d-de-vacinacao-contra-a-gripe-em-oito-unidades-de-saude - Texto <h1>: Prefeitura de Mariana realiza Dia D de Vacinação contra a gripe em oito Unidades de Saúde\n",
      "URL: https://www.mariana.mg.gov.br/noticia/8236/guarda-municipal-ganha-33-novos-agentes-com-a-formatura-da-4-turma - Texto <h1>: Guarda Municipal ganha 33 novos agentes com a formatura da 4ª turma\n",
      "URL: https://www.mariana.mg.gov.br/noticias - Texto <h1>: Todas as notĂ­cias\n",
      "URL: https://www.mariana.mg.gov.br/noticia/8232/mariana-tera-jogos-do-campeonato-brasileiro-de-futsal - Texto <h1>: Mariana terá jogos do Campeonato Brasileiro de Futsal\n",
      "URL: https://twitter.com/share - Texto <h1>: This browser is no longer supported.\n",
      "URL: https://www.mariana.mg.gov.br/noticia/8233/prefeitura-de-mariana-oferece-servicos-no-dia-da-mundial-da-saude - Texto <h1>: Prefeitura de Mariana oferece serviços no Dia da Mundial da Saúde\n",
      "URL: https://www.mariana.mg.gov.br/noticia/8237/estrada-de-vargem-tem-instalacao-de-sarjetas-e-meio-fio - Texto <h1>: Estrada de Vargem tem instalação de sarjetas e meio-fio\n",
      "URL: https://m.facebook.com/login.php?skip_api_login=1&api_key=966242223397117&signed_next=1&next=https%3A%2F%2Fm.facebook.com%2Fsharer%2Fsharer.php%3Fu%3Dhttps%253A%252F%252Fwww.mariana.mg.gov.br%252F%252Fnoticia%252F8234%252Fprefeitura-de-mariana-realiza-dia-d-de-vacinacao-contra-a-gripe-em-oito-unidades-de-saude&cancel_url=https%3A%2F%2Fm.facebook.com%2Fdialog%2Fclose_window%2F%3Fapp_id%3D966242223397117%26connect%3D0%23_%3D_&display=touch&locale=pt_BR&_rdr - Texto <h1>: Facebook\n",
      "URL: https://www.mariana.mg.gov.br/noticia/8230/quatro-escolas-recebem-programa-de-prevencao-as-drogas-da-policia-militar - Texto <h1>: Quatro escolas recebem programa de prevenção às drogas da Polícia Militar\n",
      "URL: https://m.facebook.com/login.php?skip_api_login=1&api_key=966242223397117&signed_next=1&next=https%3A%2F%2Fm.facebook.com%2Fsharer%2Fsharer.php%3Fu%3Dhttps%253A%252F%252Fwww.mariana.mg.gov.br%252F%252Fnoticia%252F8230%252Fquatro-escolas-recebem-programa-de-prevencao-as-drogas-da-policia-militar&cancel_url=https%3A%2F%2Fm.facebook.com%2Fdialog%2Fclose_window%2F%3Fapp_id%3D966242223397117%26connect%3D0%23_%3D_&display=touch&locale=pt_BR&_rdr - Texto <h1>: Facebook\n",
      "URL: https://www.mariana.mg.gov.br/demutran-pagina - Texto <h1>: Demutran\n",
      "URL: https://www.mariana.mg.gov.br/demutran-pagina - Texto <h1>: Informações e Links Úteis\n"
     ]
    },
    {
     "name": "stderr",
     "output_type": "stream",
     "text": [
      "Some characters could not be decoded, and were replaced with REPLACEMENT CHARACTER.\n",
      "Some characters could not be decoded, and were replaced with REPLACEMENT CHARACTER.\n",
      "Some characters could not be decoded, and were replaced with REPLACEMENT CHARACTER.\n",
      "Some characters could not be decoded, and were replaced with REPLACEMENT CHARACTER.\n",
      "Some characters could not be decoded, and were replaced with REPLACEMENT CHARACTER.\n",
      "Some characters could not be decoded, and were replaced with REPLACEMENT CHARACTER.\n",
      "Some characters could not be decoded, and were replaced with REPLACEMENT CHARACTER.\n"
     ]
    },
    {
     "name": "stdout",
     "output_type": "stream",
     "text": [
      "Erro ao acessar http://67.228.135.27/webtran/MunLogin.aspx?id=010401: HTTPConnectionPool(host='67.228.135.27', port=80): Max retries exceeded with url: /webtran/MunLogin.aspx?id=010401 (Caused by ConnectTimeoutError(<urllib3.connection.HTTPConnection object at 0x00000205AA13A3D0>, 'Connection to 67.228.135.27 timed out. (connect timeout=None)'))\n"
     ]
    },
    {
     "name": "stderr",
     "output_type": "stream",
     "text": [
      "Some characters could not be decoded, and were replaced with REPLACEMENT CHARACTER.\n",
      "Some characters could not be decoded, and were replaced with REPLACEMENT CHARACTER.\n"
     ]
    },
    {
     "name": "stdout",
     "output_type": "stream",
     "text": [
      "URL: https://saaemariana.mg.gov.br/ - Texto <h1>: Novas políticas tarifárias\n",
      "URL: https://saaemariana.mg.gov.br/ - Texto <h1>: Prontos para te atender\n",
      "URL: https://saaemariana.mg.gov.br/ - Texto <h1>: NOTÍCIAS\n",
      "URL: https://www.cisab.com.br/ - Texto <h1>: Not Acceptable!\n",
      "Erro ao acessar tel:3135579300: No connection adapters were found for 'tel:3135579300'\n",
      "URL: https://saaemariana.mg.gov.br/#v_gxHrWvOVug - Texto <h1>: Novas políticas tarifárias\n",
      "URL: https://saaemariana.mg.gov.br/#v_gxHrWvOVug - Texto <h1>: Prontos para te atender\n",
      "URL: https://saaemariana.mg.gov.br/#v_gxHrWvOVug - Texto <h1>: NOTÍCIAS\n",
      "URL: https://interminas.net/ - Texto <h1>: A agência de publicidade que vai mudarcomo sua empresa é vista!\n"
     ]
    },
    {
     "name": "stderr",
     "output_type": "stream",
     "text": [
      "Some characters could not be decoded, and were replaced with REPLACEMENT CHARACTER.\n"
     ]
    },
    {
     "name": "stdout",
     "output_type": "stream",
     "text": [
      "URL: https://www.mariana.mg.gov.br/associacoes-comunitarias - Texto <h1>: Associações comunitárias\n",
      "URL: https://www.locaweb.com.br/email-marketing-locaweb/?utm_campaign=login_webmail&utm_source=login_webmail&utm_medium=own&utm_content=login_webmail - Texto <h1>: Email Marketing Locaweb\n",
      "URL: https://tray.locaweb.com.br/?utm_campaign=login_webmail&utm_source=login_webmail&utm_medium=own&utm_content=login_webmail - Texto <h1>: Erro ao estabelecer uma conexão com o banco de dados\n",
      "URL: https://www.locaweb.com.br/ajuda/wiki/como-alterar-senha-de-e-mail-painel-locaweb/ - Texto <h1>: Como alterar senha de e-mail no Painel – Email Locaweb\n",
      "URL: https://www.locaweb.com.br/hospedagem-de-sites-com-dominio-gratis/?utm_campaign=login_webmail&utm_source=login_webmail&utm_medium=own&utm_content=login_webmail - Texto <h1>: Hospedagem de Sites\n",
      "URL: https://www.mariana.mg.gov.br/noticia/8229/ubss-recebem-pacientes-com-sintomas-de-dengue-em-mariana - Texto <h1>: UBSs recebem pacientes com sintomas de dengue em Mariana\n",
      "URL: https://m.facebook.com/login.php?skip_api_login=1&api_key=966242223397117&signed_next=1&next=https%3A%2F%2Fm.facebook.com%2Fsharer%2Fsharer.php%3Fu%3Dhttps%253A%252F%252Fwww.mariana.mg.gov.br%252F%252Fnoticia%252F8229%252Fubss-recebem-pacientes-com-sintomas-de-dengue-em-mariana&cancel_url=https%3A%2F%2Fm.facebook.com%2Fdialog%2Fclose_window%2F%3Fapp_id%3D966242223397117%26connect%3D0%23_%3D_&display=touch&locale=pt_BR&_rdr - Texto <h1>: Facebook\n",
      "URL: https://www.mariana.mg.gov.br/#carousel-sb2392898 - Texto <h1>: DESTAQUES\n",
      "URL: https://sites.google.com/educacao.mariana.mg.gov.br/portaleducacional-marianamg/p%C3%A1gina-inicial - Texto <h1>: O QUE VOCÊ ENCONTRA AQUI?\n",
      "URL: https://www.mariana.mg.gov.br/graficos-de-arrecadacao - Texto <h1>: Gráficos de Arrecadação\n",
      "URL: https://www.mariana.mg.gov.br/#myCarousel - Texto <h1>: DESTAQUES\n",
      "URL: https://www.mariana.mg.gov.br/feriados-municipais - Texto <h1>: Feriados Municipais\n",
      "URL: https://www.mariana.mg.gov.br/noticia/8231/mil-atletas-participam-da-1-corrida-farid-no-domingo - Texto <h1>: Mil atletas participam da 1ª Corrida Farid, no domingo\n",
      "URL: https://www.mariana.mg.gov.br/#carousel-sb2229271 - Texto <h1>: DESTAQUES\n",
      "URL: https://www1.barbacena.mg.gov.br/ - Texto <h1>: Ir para o conteúdo\n",
      "URL: https://www1.barbacena.mg.gov.br/e-notas - Texto <h1>: Ir para o conteúdo\n",
      "URL: https://www1.barbacena.mg.gov.br/portal/servicos/1029/lei-aldir-blanc/ - Texto <h1>: Ir para o conteúdo\n",
      "URL: https://www1.barbacena.mg.gov.br/portal/servicos/1034/lei-paulo-gustavo/ - Texto <h1>: Ir para o conteúdo\n",
      "Erro ao acessar tel:(32)3198-1000: No connection adapters were found for 'tel:(32)3198-1000'\n",
      "URL: https://www1.barbacena.mg.gov.br/portal/galeria-de-fotos/ - Texto <h1>: Ir para o conteúdo\n",
      "URL: https://www1.barbacena.mg.gov.br/portal/servicos/14/institucional/ - Texto <h1>: Ir para o conteúdo\n",
      "URL: https://e-gov.betha.com.br/protocolo/01038-241/con_nroprocesso.faces - Texto <h1>: Fly Protocolo\n",
      "URL: https://www1.barbacena.mg.gov.br/portal/secretarias/25/secretaria-municipal-de-fazenda--sefaz - Texto <h1>: Ir para o conteúdo\n"
     ]
    },
    {
     "name": "stderr",
     "output_type": "stream",
     "text": [
      "Some characters could not be decoded, and were replaced with REPLACEMENT CHARACTER.\n"
     ]
    },
    {
     "name": "stdout",
     "output_type": "stream",
     "text": [
      "URL: https://leismunicipais.com.br/a1/estatuto-do-servidor-publico-barbacena-mg - Texto <h1>: Legislação Municipal deBarbacena/MG\n",
      "URL: https://leismunicipais.com.br/a1/estatuto-do-servidor-publico-barbacena-mg - Texto <h1>: \"DISPÕE SOBRE O ESTATUTO DOS SERVIDORES PÚBLICOS CIVIS DO MUNICÍPIO DE BARBACENA, DAS AUTARQUIAS, INCLUSIVE AS EM REGIME ESPECIAL, E DAS FUNDAÇÕES PÚBLICAS MUNICIPAIS E DÁ OUTRAS PROVIDÊNCIAS.\"\n",
      "URL: https://leismunicipais.com.br/a1/estatuto-do-servidor-publico-barbacena-mg - Texto <h1>: Termos de Uso e Políticas de Privacidade\n",
      "URL: https://leismunicipais.com.br/prefeitura/mg/barbacena - Texto <h1>: Legislação Municipal deBarbacena/MG\n",
      "URL: https://leismunicipais.com.br/prefeitura/mg/barbacena - Texto <h1>: Termos de Uso e Políticas de Privacidade\n",
      "URL: https://e-gov.betha.com.br/cdweb/03114-414/contribuinte/../../ - Texto <h1>: Ops! Ocorreu um erro.\n",
      "URL: https://www1.barbacena.mg.gov.br/%20https:/e-gov.betha.com.br/cdweb/resource.faces?params=hlBNABSOaBFoPP-I0ySzJw== - Texto <h1>: Página não encontrada\n",
      "URL: https://www1.barbacena.mg.gov.br/portal/secretarias/28/secretaria-municipal-de-assistencia-social--semas - Texto <h1>: Ir para o conteúdo\n"
     ]
    },
    {
     "name": "stderr",
     "output_type": "stream",
     "text": [
      "Some characters could not be decoded, and were replaced with REPLACEMENT CHARACTER.\n"
     ]
    },
    {
     "name": "stdout",
     "output_type": "stream",
     "text": [
      "URL: https://www1.barbacena.mg.gov.br/portal/secretarias/29/secretaria-municipal-de-obras-publicas--semop - Texto <h1>: Ir para o conteúdo\n",
      "URL: https://www1.barbacena.mg.gov.br/portal/servicos/1037/jornada-empreendedora-bq/ - Texto <h1>: Ir para o conteúdo\n",
      "URL: https://www1.barbacena.mg.gov.br/portal/secretarias/27/secretaria-municipal-de-governo--segov - Texto <h1>: Ir para o conteúdo\n",
      "URL: https://www1.barbacena.mg.gov.br/portal/secretarias/26/secretaria-municipal-do-gabinete-do-prefeito--segab - Texto <h1>: Ir para o conteúdo\n",
      "URL: https://www1.barbacena.mg.gov.br/portal/servicos/1018/servidor/ - Texto <h1>: Ir para o conteúdo\n",
      "URL: https://www1.barbacena.mg.gov.br/portal/busca/0/05-04-2024/05-04-2024 - Texto <h1>: Ir para o conteúdo\n",
      "URL: https://www1.barbacena.mg.gov.br/portal/arquivos - Texto <h1>: Ir para o conteúdo\n",
      "URL: https://www1.barbacena.mg.gov.br/portal/prefeito/14/2 - Texto <h1>: Ir para o conteúdo\n",
      "URL: https://www1.barbacena.mg.gov.br/portal/secretarias/20/controladoria-geral-do-municipio--cgem - Texto <h1>: Ir para o conteúdo\n",
      "URL: https://www1.barbacena.mg.gov.br/portal/secretarias/19/advocacia-geral-do-municipio--agm - Texto <h1>: Ir para o conteúdo\n",
      "URL: https://www1.barbacena.mg.gov.br/e-notas#conteudo_esquerda - Texto <h1>: Ir para o conteúdo\n",
      "URL: https://www1.barbacena.mg.gov.br/portal/secretarias/22/guarda-civil-municipal--gcm - Texto <h1>: Ir para o conteúdo\n",
      "URL: https://www1.barbacena.mg.gov.br/portal/servicos/1015/iptu/ - Texto <h1>: Ir para o conteúdo\n",
      "URL: https://www1.barbacena.mg.gov.br/portal/secretarias/32/secretaria-de-transito-e-mobilidade-urbana--setram - Texto <h1>: Ir para o conteúdo\n",
      "URL: https://twitter.com/PrefBarbacena - Texto <h1>: This browser is no longer supported.\n"
     ]
    },
    {
     "name": "stderr",
     "output_type": "stream",
     "text": [
      "Some characters could not be decoded, and were replaced with REPLACEMENT CHARACTER.\n"
     ]
    },
    {
     "name": "stdout",
     "output_type": "stream",
     "text": [
      "URL: https://www1.barbacena.mg.gov.br/portal/diario-oficial - Texto <h1>: Ir para o conteúdo\n",
      "URL: https://www1.barbacena.mg.gov.br/portal/privacidade - Texto <h1>: Ir para o conteúdo\n",
      "URL: https://www1.barbacena.mg.gov.br/portal/secretarias/31/secretaria-municipal-de-saude--sesap - Texto <h1>: Ir para o conteúdo\n",
      "URL: https://www1.barbacena.mg.gov.br/portal/paginas-dinamicas-categoria/1/nota-fiscal-eletronica - Texto <h1>: Ir para o conteúdo\n",
      "URL: https://www1.barbacena.mg.gov.br/portal/galeria-de-prefeitos/ - Texto <h1>: Ir para o conteúdo\n",
      "URL: https://www1.barbacena.mg.gov.br/e-notas/ - Texto <h1>: Ir para o conteúdo\n",
      "URL: https://www1.barbacena.mg.gov.br/portal/servicos_online/ - Texto <h1>: Ir para o conteúdo\n",
      "URL: https://www1.barbacena.mg.gov.br/portal/servicos/1017/lei-de-anistia/ - Texto <h1>: Ir para o conteúdo\n",
      "URL: https://www1.barbacena.mg.gov.br/portal/carta-servicos - Texto <h1>: Ir para o conteúdo\n",
      "URL: https://www1.barbacena.mg.gov.br/portal/servicos/1028/cultura/ - Texto <h1>: Ir para o conteúdo\n",
      "URL: https://www1.barbacena.mg.gov.br/portal/secretarias/23/secretaria-municipal-de-agricultura-pecuaria-e-abastecimento--seapa - Texto <h1>: Ir para o conteúdo\n",
      "URL: https://www1.barbacena.mg.gov.br/portal/servicos/1014/instalacoes-de-equipamentos/ - Texto <h1>: Ir para o conteúdo\n",
      "URL: https://www1.barbacena.mg.gov.br/portal/transparencia - Texto <h1>: Ir para o conteúdo\n",
      "URL: https://www1.barbacena.mg.gov.br/portal - Texto <h1>: Ir para o conteúdo\n",
      "URL: https://www1.barbacena.mg.gov.br/portal/secretarias/ - Texto <h1>: Ir para o conteúdo\n",
      "URL: https://www1.barbacena.mg.gov.br/portal/secretarias/24/secretaria-municipal-de-educacao-desporto-e-cultura--sedec - Texto <h1>: Ir para o conteúdo\n",
      "URL: https://www1.barbacena.mg.gov.br/portal/telefones/ - Texto <h1>: Ir para o conteúdo\n",
      "URL: https://www1.barbacena.mg.gov.br/portal/secretarias/21/consultoria-geral-do-municipio--cgm - Texto <h1>: Ir para o conteúdo\n",
      "URL: https://www.addtoany.com/share - Texto <h1>: AddToAny\n",
      "URL: https://www1.barbacena.mg.gov.br/portal/secretarias/30/secretaria-municipal-de-planejamento-e-gestao--seplan - Texto <h1>: Ir para o conteúdo\n",
      "URL: https://barbacena.quasar.srv.br/alvara/taxas/acompanhamento.xhtml - Texto <h1>: Taxas\n",
      "URL: https://barbacena.quasar.srv.br/alvara/taxas/acompanhamento.xhtml - Texto <h1>: Taxas\n",
      "URL: https://www1.barbacena.mg.gov.br/portal/internautas/cadastrar/pf - Texto <h1>: Ir para o conteúdo\n",
      "URL: https://login.betha.cloud/servicelogin/login.faces?app=1c8315b6-1fb9-4a4c-b545-9f585d9fbd10&continue=dUt3pl7deSJcIfYbNgSBvyszrVx7CtLXMQ8SyjaTDIyAxIspOkXzLADGEjv59FmVkDvvSbpRV9h8ufTnTBpXO7RI651ay-4WmGKXeVTIjMkChFiJp09kXAw470h7bbL8oUHjYCAXMXlECtofVqS6JH_AsUaEICqRqBtvHR3H6EaV7xj-zMFKvctuq3OpBd0D2bm7ZGKL5FW87THOHVMFfKa78RGLE1rHG4-C9orarg3P6FWJxPv3ECi_-6l9Bk1p6H2lZLFDkaYqMaknTip-yIqNvEXBB5m_rT9djaI6-xVfpbEl6XvGlmmv0Ys5W3G800KXcdR3de07j3Zd4EffI5RW-_2EfDE5dS7z1UqPjzCG1GR7_U0Qh-_a_IKV5zzIe3RelIaxIAMqGnBWm1QcSGMqD_qvzLN4c0OqZvSoi2TkmEkXaMw5g2AK3hroF5r1lx0Z-q5JR9_pZ5QKRCeLErzjRO7V5iy57tVTQsEmgO7jmOvo4M1 - Texto <h1>: Oops!\n",
      "URL: https://www1.barbacena.mg.gov.br/portal/internautas/cadastrar/pj - Texto <h1>: Ir para o conteúdo\n",
      "URL: https://www1.barbacena.mg.gov.br/portal/prefeito/13/1 - Texto <h1>: Ir para o conteúdo\n",
      "Erro ao acessar tel:(32)3198-1000: No connection adapters were found for 'tel:(32)3198-1000'\n",
      "URL: https://www1.barbacena.mg.gov.br/portal/diario-oficial/ver/2422/ - Texto <h1>: Ir para o conteúdo\n",
      "URL: https://www1.barbacena.mg.gov.br/portal/diario-oficial/ver/2422/#conteudo_esquerda - Texto <h1>: Ir para o conteúdo\n",
      "URL: https://www1.barbacena.mg.gov.br/portal/noticias/0/3/1705/secretaria-de-saude-da-dicas-para-evitar-aparecimento-de-animais-peconhentos-em-residencias - Texto <h1>: Ir para o conteúdo\n",
      "URL: https://www1.barbacena.mg.gov.br/portal/noticias/0/3/1704/participe-da-acao-social-do-dia-mundial-da-saude - Texto <h1>: Ir para o conteúdo\n",
      "URL: https://www1.barbacena.mg.gov.br/portal/noticias/0/3/1672/escolas-se-mobilizam-no-combate-a-dengue - Texto <h1>: Ir para o conteúdo\n",
      "URL: https://www1.barbacena.mg.gov.br/portal/noticias/0/3/1667/amanha-acontece-dia-d-de-combate-contra-a-dengue - Texto <h1>: Ir para o conteúdo\n",
      "URL: https://www1.barbacena.mg.gov.br/portal/noticias/0/3/1675/prefeitura-realiza-dia-d-de-combate-a-dengue - Texto <h1>: Ir para o conteúdo\n",
      "URL: https://www1.barbacena.mg.gov.br/portal/noticias/0/3/1702/prefeitura-explica-a-utilizacao-de-fumace-no-combate-a-dengue-em-barbacena - Texto <h1>: Ir para o conteúdo\n",
      "URL: https://www1.barbacena.mg.gov.br/portal/noticias/0/3/1670/confira-os-horarios-de-plantao-na-saude-neste-final-de-semana - Texto <h1>: Ir para o conteúdo\n",
      "Erro ao acessar tel:(32)3198-1000: No connection adapters were found for 'tel:(32)3198-1000'\n",
      "URL: https://www1.barbacena.mg.gov.br/portal/noticias/0/3/1696/vamos-falar-sobre-o-transtorno-do-espectro-autista-tea - Texto <h1>: Ir para o conteúdo\n",
      "URL: https://www1.barbacena.mg.gov.br/portal/noticias/0/3/1705/secretaria-de-saude-da-dicas-para-evitar-aparecimento-de-animais-peconhentos-em-residencias#conteudo_esquerda - Texto <h1>: Ir para o conteúdo\n",
      "URL: https://www1.barbacena.mg.gov.br/portal/noticias/3/1/15/0/0/0 - Texto <h1>: Ir para o conteúdo\n",
      "URL: https://www1.barbacena.mg.gov.br/portal/noticias/0/3/1669/barbacena-comeca-campanha-da-vacinacao-contra-a-influenza - Texto <h1>: Ir para o conteúdo\n",
      "URL: https://www1.barbacena.mg.gov.br/portal/noticias/0/3/1705/%20https:/e-gov.betha.com.br/cdweb/resource.faces?params=hlBNABSOaBFoPP-I0ySzJw== - Texto <h1>: Ir para o conteúdo\n",
      "URL: https://www1.barbacena.mg.gov.br/portal/noticias/0/3/1689/mulheres-podem-agendar-mamografias-atraves-das-ubss - Texto <h1>: Ir para o conteúdo\n",
      "URL: https://www1.barbacena.mg.gov.br/portal/noticias/3/ - Texto <h1>: Ir para o conteúdo\n",
      "URL: https://www1.barbacena.mg.gov.br/portal/noticias/0/3/1700/vacina-do-hpv-esta-disponivel-em-dose-unica-nas-ubss-para-criancas-de-nove-a-14-anos - Texto <h1>: Ir para o conteúdo\n"
     ]
    },
    {
     "name": "stderr",
     "output_type": "stream",
     "text": [
      "Some characters could not be decoded, and were replaced with REPLACEMENT CHARACTER.\n"
     ]
    },
    {
     "name": "stdout",
     "output_type": "stream",
     "text": [
      "URL: https://www1.barbacena.mg.gov.br/portal/noticias/0/3/1701/barbacena-realiza-os-jogos-escolares-municipais - Texto <h1>: Ir para o conteúdo\n",
      "URL: https://www1.barbacena.mg.gov.br/portal/noticias/0/3/1701/%20https:/e-gov.betha.com.br/cdweb/resource.faces?params=hlBNABSOaBFoPP-I0ySzJw== - Texto <h1>: Ir para o conteúdo\n"
     ]
    },
    {
     "name": "stderr",
     "output_type": "stream",
     "text": [
      "Some characters could not be decoded, and were replaced with REPLACEMENT CHARACTER.\n"
     ]
    },
    {
     "name": "stdout",
     "output_type": "stream",
     "text": [
      "Erro ao acessar tel:(32)3198-1000: No connection adapters were found for 'tel:(32)3198-1000'\n",
      "URL: https://www1.barbacena.mg.gov.br/portal/noticias/0/3/1591/barbacena-inicia-seletiva-da-copa-integracao-de-futsal - Texto <h1>: Ir para o conteúdo\n",
      "URL: https://www1.barbacena.mg.gov.br/portal/noticias/0/3/1701/barbacena-realiza-os-jogos-escolares-municipais#conteudo_esquerda - Texto <h1>: Ir para o conteúdo\n"
     ]
    },
    {
     "name": "stderr",
     "output_type": "stream",
     "text": [
      "Some characters could not be decoded, and were replaced with REPLACEMENT CHARACTER.\n",
      "Some characters could not be decoded, and were replaced with REPLACEMENT CHARACTER.\n"
     ]
    },
    {
     "name": "stdout",
     "output_type": "stream",
     "text": [
      "URL: https://www1.barbacena.mg.gov.br/portal/noticias/3/1/16/0/0/0 - Texto <h1>: Ir para o conteúdo\n",
      "URL: https://www1.barbacena.mg.gov.br/portal/noticias/0/3/1376/prefeitura-oferece-projetos-esportivos-para-criancas-e-adolescentes-gratuitamente - Texto <h1>: Ir para o conteúdo\n",
      "URL: https://www1.barbacena.mg.gov.br/portal/noticias/0/3/1678/escolas-de-barbacena-participam-de-jogos-de-futsal - Texto <h1>: Ir para o conteúdo\n",
      "URL: https://www1.barbacena.mg.gov.br/portal/noticias/3/1/18/0/0/0 - Texto <h1>: Ir para o conteúdo\n"
     ]
    },
    {
     "name": "stderr",
     "output_type": "stream",
     "text": [
      "Some characters could not be decoded, and were replaced with REPLACEMENT CHARACTER.\n",
      "Some characters could not be decoded, and were replaced with REPLACEMENT CHARACTER.\n"
     ]
    },
    {
     "name": "stdout",
     "output_type": "stream",
     "text": [
      "URL: https://www1.barbacena.mg.gov.br/portal/noticias/0/3/1584/comecou-a-seletiva-para-a-copa-integracao-de-futsal - Texto <h1>: Ir para o conteúdo\n",
      "URL: https://www1.barbacena.mg.gov.br/portal/turismo/0/9/1475/museu-da-loucura - Texto <h1>: Ir para o conteúdo\n"
     ]
    },
    {
     "name": "stderr",
     "output_type": "stream",
     "text": [
      "Some characters could not be decoded, and were replaced with REPLACEMENT CHARACTER.\n"
     ]
    },
    {
     "name": "stdout",
     "output_type": "stream",
     "text": [
      "URL: https://www1.barbacena.mg.gov.br/portal/turismo/0/9/1476/museu-municipal-de-barbacena - Texto <h1>: Ir para o conteúdo\n",
      "URL: https://www1.barbacena.mg.gov.br/portal/turismo/9/1/40/0/0/0/0 - Texto <h1>: Ir para o conteúdo\n"
     ]
    },
    {
     "name": "stderr",
     "output_type": "stream",
     "text": [
      "Some characters could not be decoded, and were replaced with REPLACEMENT CHARACTER.\n"
     ]
    },
    {
     "name": "stdout",
     "output_type": "stream",
     "text": [
      "Erro ao acessar tel:(32)3198-1000: No connection adapters were found for 'tel:(32)3198-1000'\n",
      "URL: https://www1.barbacena.mg.gov.br/portal/turismo - Texto <h1>: Ir para o conteúdo\n",
      "URL: https://www1.barbacena.mg.gov.br/portal/turismo/0/9/1475/%20https:/e-gov.betha.com.br/cdweb/resource.faces?params=hlBNABSOaBFoPP-I0ySzJw== - Texto <h1>: Ir para o conteúdo\n"
     ]
    },
    {
     "name": "stderr",
     "output_type": "stream",
     "text": [
      "Some characters could not be decoded, and were replaced with REPLACEMENT CHARACTER.\n"
     ]
    },
    {
     "name": "stdout",
     "output_type": "stream",
     "text": [
      "URL: https://www1.barbacena.mg.gov.br/portal/turismo/0/9/1475/museu-da-loucura#conteudo_esquerda - Texto <h1>: Ir para o conteúdo\n",
      "URL: https://www1.barbacena.mg.gov.br/portal/turismo/0/9/1462/matriz-de-nossa-senhora-da-assuncao--boa-morte - Texto <h1>: Ir para o conteúdo\n"
     ]
    },
    {
     "name": "stderr",
     "output_type": "stream",
     "text": [
      "Some characters could not be decoded, and were replaced with REPLACEMENT CHARACTER.\n",
      "Some characters could not be decoded, and were replaced with REPLACEMENT CHARACTER.\n"
     ]
    },
    {
     "name": "stdout",
     "output_type": "stream",
     "text": [
      "URL: https://web.whatsapp.com/send/?phone=553233392059&text&type=phone_number&app_absent=0 - Texto <h1>: Browser not supported\n",
      "URL: https://www.whatsapp.com/ - Texto <h1>: Envie mensagens com privacidade\n",
      "URL: https://www.whatsapp.com/android - Texto <h1>: Baixe o WhatsApp para Android\n",
      "URL: https://www.whatsapp.com/android - Texto <h1>: Envie mensagens com privacidade\n",
      "URL: https://www.whatsapp.com/android - Texto <h1>: Envie mensagens com privacidade\n",
      "URL: https://www.whatsapp.com/android - Texto <h1>: Expresse sua personalidade\n",
      "URL: https://www.whatsapp.com/android - Texto <h1>: Expresse sua personalidade\n",
      "URL: https://www.whatsapp.com/android - Texto <h1>: Comece a usar o WhatsApp hoje mesmo!\n",
      "URL: https://www.whatsapp.com/about - Texto <h1>: Sobre o WhatsApp\n",
      "URL: https://web.whatsapp.com/ - Texto <h1>: Browser not supported\n",
      "URL: https://www.whatsapp.com/stayconnected - Texto <h1>: Sinta-se presente\n",
      "URL: https://business.whatsapp.com/ - Texto <h1>: Transforme sua empresa\n",
      "URL: https://www.whatsapp.com/community - Texto <h1>: Um lugar ao qual você pertence\n",
      "URL: https://www.whatsapp.com/community - Texto <h1>: Reúna grupos relacionados\n",
      "URL: https://www.whatsapp.com/community - Texto <h1>: Reúna grupos relacionados\n",
      "URL: https://www.whatsapp.com/community - Texto <h1>: Crie conversas para assuntos específicos\n",
      "URL: https://www.whatsapp.com/community - Texto <h1>: Crie conversas para assuntos específicos\n",
      "URL: https://www.whatsapp.com/security - Texto <h1>: Segurançaem primeiro lugar\n",
      "URL: https://about.meta.com/br/brand/resources/whatsapp/whatsapp-brand - Texto <h1>: Diretrizes e ativos da marca do WhatsApp\n",
      "URL: https://www.whatsapp.com/security/advisories - Texto <h1>: WhatsApp Security Advisories\n",
      "URL: https://www.whatsapp.com/security/advisories - Texto <h1>: Disclosures\n",
      "URL: https://twitter.com/whatsapp - Texto <h1>: This browser is no longer supported.\n",
      "URL: https://www.whatsapp.com/expressyourself - Texto <h1>: Demonstre seus sentimentos\n",
      "URL: https://www.whatsapp.com/expressyourself - Texto <h1>: Envie figurinhas ou GIFs\n",
      "URL: https://www.whatsapp.com/expressyourself - Texto <h1>: Envie figurinhas ou GIFs\n",
      "URL: https://www.whatsapp.com/expressyourself - Texto <h1>: Expresse melhor sua personalidade com as reações\n",
      "URL: https://www.whatsapp.com/expressyourself - Texto <h1>: Expresse melhor sua personalidade com as reações\n",
      "URL: https://www.whatsapp.com/expressyourself - Texto <h1>: Compartilhe fotos e vídeos\n",
      "URL: https://www.whatsapp.com/expressyourself - Texto <h1>: Compartilhe fotos e vídeos\n",
      "URL: https://www.whatsapp.com/contact - Texto <h1>: Fale com o WhatsApp\n",
      "URL: https://www.whatsapp.com/privacy - Texto <h1>: Privacidadepara suas mensagens\n",
      "URL: https://www.whatsapp.com/legal/ - Texto <h1>: Conteúdo jurídico do WhatsApp\n",
      "URL: https://www.whatsapp.com/join - Texto <h1>: Junte-se ao WhatsApp\n",
      "URL: https://www1.barbacena.mg.gov.br/portal/diario-oficial/ver/2421/ - Texto <h1>: Ir para o conteúdo\n",
      "URL: https://www1.barbacena.mg.gov.br/portal/diario-oficial/ver/2421/#conteudo_esquerda - Texto <h1>: Ir para o conteúdo\n",
      "URL: https://www1.barbacena.mg.gov.br/portal/0/galeria-de-videos/423/Defesa%20Civil%20de%20Barbacena%20tem%20trabalho%20intensamente%20para%20mensurar%20e%20mitigar%20os%20danos%20causados%20pelas - Texto <h1>: Ir para o conteúdo\n",
      "URL: https://www1.barbacena.mg.gov.br/portal/0/galeria-de-videos/423/defesa-civil-de-barbacena-tem-trabalho-intensamente-para-mensurar-e-mitigar-os-danos-causados-pelas - Texto <h1>: Ir para o conteúdo\n",
      "URL: https://www1.barbacena.mg.gov.br/portal/0/galeria-de-videos/421/barbacena-contra-a-dengue/ - Texto <h1>: Ir para o conteúdo\n",
      "URL: https://www1.barbacena.mg.gov.br/portal/galeria-de-videos/ - Texto <h1>: Ir para o conteúdo\n",
      "URL: https://www1.barbacena.mg.gov.br/portal/0/galeria-de-videos/424/audiencia-publica---plano-diretor-e-de-mobilidade-urbana/ - Texto <h1>: Ir para o conteúdo\n",
      "Erro ao acessar tel:(32)3198-1000: No connection adapters were found for 'tel:(32)3198-1000'\n",
      "URL: https://www1.barbacena.mg.gov.br/portal/0/galeria-de-videos/423/Defesa%20Civil%20de%20Barbacena%20tem%20trabalho%20intensamente%20para%20mensurar%20e%20mitigar%20os%20danos%20causados%20pelas#conteudo_esquerda - Texto <h1>: Ir para o conteúdo\n",
      "URL: https://www1.barbacena.mg.gov.br/portal/0/galeria-de-videos/423/%20https:/e-gov.betha.com.br/cdweb/resource.faces?params=hlBNABSOaBFoPP-I0ySzJw== - Texto <h1>: Ir para o conteúdo\n",
      "URL: https://www1.barbacena.mg.gov.br/portal/noticias/0/3/1703/prefeitura-publica-chamamento-para-empreendedores-comerciantes-e-expositores-na-55-exposicao-agropecuaria-de-barbacena - Texto <h1>: Ir para o conteúdo\n",
      "URL: https://www1.barbacena.mg.gov.br/portal/noticias/0/3/1703/%20https:/e-gov.betha.com.br/cdweb/resource.faces?params=hlBNABSOaBFoPP-I0ySzJw== - Texto <h1>: Ir para o conteúdo\n",
      "URL: https://www1.barbacena.mg.gov.br/portal/noticias/3/1/39/0/0/0 - Texto <h1>: Ir para o conteúdo\n",
      "URL: https://www1.barbacena.mg.gov.br/portal/noticias/0/3/1582/fachada-da-estacao-recebe-iluminacao-nas-cores-da-bandeira-da-italia - Texto <h1>: Ir para o conteúdo\n",
      "URL: https://www1.barbacena.mg.gov.br/portal/noticias/0/3/1671/ultima-quinta-foi-marcada-pela-noite-de-jogos-no-projeto-biblioteca-noturna - Texto <h1>: Ir para o conteúdo\n",
      "Erro ao acessar tel:(32)3198-1000: No connection adapters were found for 'tel:(32)3198-1000'\n",
      "URL: https://www1.barbacena.mg.gov.br/portal/noticias/0/3/1703/prefeitura-publica-chamamento-para-empreendedores-comerciantes-e-expositores-na-55-exposicao-agropecuaria-de-barbacena#conteudo_esquerda - Texto <h1>: Ir para o conteúdo\n"
     ]
    },
    {
     "name": "stderr",
     "output_type": "stream",
     "text": [
      "Some characters could not be decoded, and were replaced with REPLACEMENT CHARACTER.\n"
     ]
    },
    {
     "name": "stdout",
     "output_type": "stream",
     "text": [
      "URL: https://www1.barbacena.mg.gov.br/portal/noticias/0/3/1619/reuniao-para-definicao-da-programacao-tecnica-e-tematica-aconteceu-no-sindicato-rural - Texto <h1>: Ir para o conteúdo\n",
      "URL: https://www1.barbacena.mg.gov.br/portal/noticias/0/3/1603/noite-de-jogos-se-consolida-como-sucesso-no-projeto-biblioteca-noturna - Texto <h1>: Ir para o conteúdo\n",
      "URL: https://www1.barbacena.mg.gov.br/portal/noticias/0/3/1651/concurso-miss-universo-minas-gerais-e-sucesso-em-barbacena - Texto <h1>: Ir para o conteúdo\n"
     ]
    },
    {
     "name": "stderr",
     "output_type": "stream",
     "text": [
      "Some characters could not be decoded, and were replaced with REPLACEMENT CHARACTER.\n"
     ]
    },
    {
     "name": "stdout",
     "output_type": "stream",
     "text": [
      "URL: https://www1.barbacena.mg.gov.br/portal/noticias/0/3/1656/prefeitura-realiza-reforma-no-museu-georges-bernanos - Texto <h1>: Ir para o conteúdo\n",
      "URL: https://www1.barbacena.mg.gov.br/portal/noticias/0/3/1641/barbacena-e-sede-da-etapa-estadual-do-concurso-miss-universo - Texto <h1>: Ir para o conteúdo\n",
      "URL: https://www1.barbacena.mg.gov.br/portal/noticias/0/3/1614/distrito-de-correia-de-almeida-se-prepara-para-eleger-a-rainha-da-33-festa-do-pinhao - Texto <h1>: Ir para o conteúdo\n",
      "URL: https://www1.barbacena.mg.gov.br/portal/noticias/0/3/1690/aberto-edital-de-chamamento-publico-para-comercializacao-durante-o-jubileu-de-sao-jose-operario - Texto <h1>: Ir para o conteúdo\n"
     ]
    },
    {
     "name": "stderr",
     "output_type": "stream",
     "text": [
      "Some characters could not be decoded, and were replaced with REPLACEMENT CHARACTER.\n"
     ]
    },
    {
     "name": "stdout",
     "output_type": "stream",
     "text": [
      "URL: https://www1.barbacena.mg.gov.br/portal/noticias/3/1/20/0/0/0 - Texto <h1>: Ir para o conteúdo\n",
      "URL: https://www1.barbacena.mg.gov.br/portal/noticias/0/3/1680/moradores-do-bairro-sao-jose-sao-convidados-a-participar-de-reuniao-para-alinhamento-do-jubileu-de-sao-jose-operario - Texto <h1>: Ir para o conteúdo\n",
      "URL: https://www1.barbacena.mg.gov.br/portal/agenda/0/4/1516/60-jubileu-de-sao-jose-operario - Texto <h1>: Ir para o conteúdo\n",
      "URL: https://www1.barbacena.mg.gov.br/portal/agenda/0/4/1517/55-exposicao-agropecuaria-de-barbacena - Texto <h1>: Ir para o conteúdo\n",
      "URL: https://www1.barbacena.mg.gov.br/portal/agenda - Texto <h1>: Ir para o conteúdo\n"
     ]
    },
    {
     "name": "stderr",
     "output_type": "stream",
     "text": [
      "Some characters could not be decoded, and were replaced with REPLACEMENT CHARACTER.\n"
     ]
    },
    {
     "name": "stdout",
     "output_type": "stream",
     "text": [
      "URL: https://www1.barbacena.mg.gov.br/portal/agenda/0/4/1516/60-jubileu-de-sao-jose-operario#conteudo_esquerda - Texto <h1>: Ir para o conteúdo\n",
      "URL: https://www1.barbacena.mg.gov.br/portal/agenda/0/4/1515/33-festa-do-pinhao - Texto <h1>: Ir para o conteúdo\n",
      "Erro ao acessar tel:(32)3198-1000: No connection adapters were found for 'tel:(32)3198-1000'\n",
      "URL: https://www1.barbacena.mg.gov.br/portal/agenda/0/4/1516/%20https:/e-gov.betha.com.br/cdweb/resource.faces?params=hlBNABSOaBFoPP-I0ySzJw== - Texto <h1>: Ir para o conteúdo\n",
      "URL: https://www1.barbacena.mg.gov.br/portal/0/galeria-de-videos/422/CEMADEN%20divulgou%20novos%20alertas%20de%20fortes%20chuvas - Texto <h1>: Ir para o conteúdo\n",
      "URL: https://www1.barbacena.mg.gov.br/portal/0/galeria-de-videos/423/defesa-civil-de-barbacena-tem-trabalho-intensamente-para-mensurar-e-mitigar-os-danos-causados-pelas/ - Texto <h1>: Ir para o conteúdo\n",
      "URL: https://www1.barbacena.mg.gov.br/portal/0/galeria-de-videos/422/cemaden-divulgou-novos-alertas-de-fortes-chuvas - Texto <h1>: Ir para o conteúdo\n",
      "URL: https://www1.barbacena.mg.gov.br/portal/0/galeria-de-videos/422/CEMADEN%20divulgou%20novos%20alertas%20de%20fortes%20chuvas#conteudo_esquerda - Texto <h1>: Ir para o conteúdo\n",
      "URL: https://www1.barbacena.mg.gov.br/portal/0/galeria-de-videos/422/%20https:/e-gov.betha.com.br/cdweb/resource.faces?params=hlBNABSOaBFoPP-I0ySzJw== - Texto <h1>: Ir para o conteúdo\n",
      "URL: https://www1.barbacena.mg.gov.br/portal/0/galeria-de-videos/420/trabalho-de-expansao-das-cadeias-de-producao-da-nossa-regiao/ - Texto <h1>: Ir para o conteúdo\n",
      "Erro ao acessar tel:(32)3198-1000: No connection adapters were found for 'tel:(32)3198-1000'\n",
      "URL: https://www1.barbacena.mg.gov.br/portal/turismo/0/9/1460/epcar---escola-preparatoria-de-cadetes-do-ar - Texto <h1>: Ir para o conteúdo\n"
     ]
    },
    {
     "name": "stderr",
     "output_type": "stream",
     "text": [
      "Some characters could not be decoded, and were replaced with REPLACEMENT CHARACTER.\n"
     ]
    },
    {
     "name": "stdout",
     "output_type": "stream",
     "text": [
      "URL: https://www1.barbacena.mg.gov.br/portal/turismo/0/9/1460/epcar---escola-preparatoria-de-cadetes-do-ar#conteudo_esquerda - Texto <h1>: Ir para o conteúdo\n"
     ]
    },
    {
     "name": "stderr",
     "output_type": "stream",
     "text": [
      "Some characters could not be decoded, and were replaced with REPLACEMENT CHARACTER.\n"
     ]
    },
    {
     "name": "stdout",
     "output_type": "stream",
     "text": [
      "Erro ao acessar tel:(32)3198-1000: No connection adapters were found for 'tel:(32)3198-1000'\n"
     ]
    },
    {
     "name": "stderr",
     "output_type": "stream",
     "text": [
      "Some characters could not be decoded, and were replaced with REPLACEMENT CHARACTER.\n"
     ]
    },
    {
     "name": "stdout",
     "output_type": "stream",
     "text": [
      "URL: https://www1.barbacena.mg.gov.br/portal/turismo/0/9/1460/%20https:/e-gov.betha.com.br/cdweb/resource.faces?params=hlBNABSOaBFoPP-I0ySzJw== - Texto <h1>: Ir para o conteúdo\n",
      "URL: https://www1.barbacena.mg.gov.br/portal/turismo/0/9/1477/camara-municipal-de-barbacena---palacio-revolucao-liberal - Texto <h1>: Ir para o conteúdo\n"
     ]
    },
    {
     "name": "stderr",
     "output_type": "stream",
     "text": [
      "Some characters could not be decoded, and were replaced with REPLACEMENT CHARACTER.\n"
     ]
    },
    {
     "name": "stdout",
     "output_type": "stream",
     "text": [
      "URL: https://www1.barbacena.mg.gov.br/portal/turismo/9/1/42/0/0/0/0 - Texto <h1>: Ir para o conteúdo\n",
      "URL: https://www1.barbacena.mg.gov.br/portal/turismo/0/9/1461/estacao-ferroviaria-de-barbacena - Texto <h1>: Ir para o conteúdo\n"
     ]
    },
    {
     "name": "stderr",
     "output_type": "stream",
     "text": [
      "Some characters could not be decoded, and were replaced with REPLACEMENT CHARACTER.\n"
     ]
    },
    {
     "name": "stdout",
     "output_type": "stream",
     "text": [
      "URL: https://www1.barbacena.mg.gov.br/portal/diario-oficial/ver/2424/ - Texto <h1>: Ir para o conteúdo\n",
      "URL: https://www1.barbacena.mg.gov.br/portal/diario-oficial/ver/2424/#conteudo_esquerda - Texto <h1>: Ir para o conteúdo\n",
      "URL: https://www1.barbacena.mg.gov.br/portal/noticias - Texto <h1>: Ir para o conteúdo\n",
      "URL: https://www1.barbacena.mg.gov.br/portal/noticias/0/3/1679/barbacena-inicia-fase-de-debates-sobre-os-planos-diretor-e-de-mobilidade/ - Texto <h1>: Ir para o conteúdo\n",
      "URL: https://www1.barbacena.mg.gov.br/portal/noticias/0/3/1693/secretaria-municipal-de-fazenda-promove-palestra-para-alunos-do-senac/ - Texto <h1>: Ir para o conteúdo\n",
      "URL: https://www1.barbacena.mg.gov.br/portal/%20https:/e-gov.betha.com.br/cdweb/resource.faces?params=hlBNABSOaBFoPP-I0ySzJw== - Texto <h1>: Página não encontrada\n",
      "URL: https://www1.barbacena.mg.gov.br/portal/noticias/0/3/1689/mulheres-podem-agendar-mamografias-atraves-das-ubss/ - Texto <h1>: Ir para o conteúdo\n",
      "URL: https://www1.barbacena.mg.gov.br/portal/noticias/0/3/1687/vigilancia-sanitaria-ministra-curso-sobre-plano-de-gerenciamento-de-residuo-solidos-de-forma-simplificada/ - Texto <h1>: Ir para o conteúdo\n",
      "URL: https://www1.barbacena.mg.gov.br/portal/noticias/0/3/1702/prefeitura-explica-a-utilizacao-de-fumace-no-combate-a-dengue-em-barbacena/ - Texto <h1>: Ir para o conteúdo\n",
      "Erro ao acessar tel:(32)3198-1000: No connection adapters were found for 'tel:(32)3198-1000'\n",
      "URL: https://www1.barbacena.mg.gov.br/portal/noticias/0/3/1686/divulgacao-de-vagas-para-professores-da-educacao-infantil-e-ensino-fundamental-i-professor-p1-nas-escolas-municipais/ - Texto <h1>: Ir para o conteúdo\n",
      "URL: https://www1.barbacena.mg.gov.br/portal/noticias/0/3/1694/prefeitura-esclarece-informacoes-falsas-sobre-implantacao-das-cameras-de-videomonitoramento/ - Texto <h1>: Ir para o conteúdo\n",
      "URL: https://www1.barbacena.mg.gov.br/portal/noticias/0/3/1699/atencao-cuidado-com-golpe-do-cadunico/ - Texto <h1>: Ir para o conteúdo\n",
      "URL: https://www1.barbacena.mg.gov.br/portal/noticias/0/3/1685/divulgacao-de-vagas-para-professores-do-ensino-fundamental-ii-professor-ii--p5--geografia-e-arte-nas-escolas-municipais/ - Texto <h1>: Ir para o conteúdo\n",
      "URL: https://www1.barbacena.mg.gov.br/portal/noticias/0/3/1705/secretaria-de-saude-da-dicas-para-evitar-aparecimento-de-animais-peconhentos-em-residencias/ - Texto <h1>: Ir para o conteúdo\n",
      "URL: https://www1.barbacena.mg.gov.br/portal/noticias/0/3/1703/prefeitura-publica-chamamento-para-empreendedores-comerciantes-e-expositores-na-55-exposicao-agropecuaria-de-barbacena/ - Texto <h1>: Ir para o conteúdo\n",
      "URL: https://www1.barbacena.mg.gov.br/portal/noticias/0/3/1690/aberto-edital-de-chamamento-publico-para-comercializacao-durante-o-jubileu-de-sao-jose-operario/ - Texto <h1>: Ir para o conteúdo\n",
      "URL: https://www1.barbacena.mg.gov.br/portal/noticias/0/3/1688/audiencia-publica-na-camara-municipal-de-barbacena-inicia-debates-cruciais-sobre-planos-diretor-e-de-mobilidade-urbana/ - Texto <h1>: Ir para o conteúdo\n",
      "URL: https://www1.barbacena.mg.gov.br/portal/noticias/0/3/1684/a-sala-mineira-do-empreendedor-atendera-apenas-de-forma-virtual-no-inicio-da-proxima-semana/ - Texto <h1>: Ir para o conteúdo\n",
      "URL: https://www1.barbacena.mg.gov.br/portal/noticias/0/3/1681/prefeitura-realiza-acoes-na-rua-para-minimizar-os-impactos-da-chuva/ - Texto <h1>: Ir para o conteúdo\n",
      "URL: https://www1.barbacena.mg.gov.br/portal/noticias/0/3/1700/vacina-do-hpv-esta-disponivel-em-dose-unica-nas-ubss-para-criancas-de-nove-a-14-anos/ - Texto <h1>: Ir para o conteúdo\n",
      "URL: https://www1.barbacena.mg.gov.br/portal/noticias/0/3/1680/moradores-do-bairro-sao-jose-sao-convidados-a-participar-de-reuniao-para-alinhamento-do-jubileu-de-sao-jose-operario/ - Texto <h1>: Ir para o conteúdo\n",
      "URL: https://www1.barbacena.mg.gov.br/portal/noticias#conteudo_esquerda - Texto <h1>: Ir para o conteúdo\n",
      "URL: https://www1.barbacena.mg.gov.br/portal/noticias/0/3/1691/escolas-municipais-participam-de-e-book-do-programa-jovens-mineiros-sustentaveis/ - Texto <h1>: Ir para o conteúdo\n",
      "URL: https://www1.barbacena.mg.gov.br/portal/noticias/0/3/1683/barbacena-e-homenageada-em-encontro-do-programa-primeira-infancia-minas-gerais/ - Texto <h1>: Ir para o conteúdo\n",
      "URL: https://www1.barbacena.mg.gov.br/portal/noticias/0/3/1695/empreendedores-e-empresarios-de-barbacena-participaram-sobre-treinamento-sobre-compras-publicas/ - Texto <h1>: Ir para o conteúdo\n",
      "URL: https://www1.barbacena.mg.gov.br/portal/noticias/0/3/1676/defesa-civil-registra-pontos-de-alagamentos-e-movimento-de-massa-apos-chuvas-desta-segunda-feira/ - Texto <h1>: Ir para o conteúdo\n",
      "URL: https://www1.barbacena.mg.gov.br/portal/noticias/3/1/0/0/0/0 - Texto <h1>: Ir para o conteúdo\n",
      "URL: https://www1.barbacena.mg.gov.br/portal/noticias/0/3/1697/a-sala-mineira-do-empreendedor-atendera-em-novo-endereco/ - Texto <h1>: Ir para o conteúdo\n",
      "URL: https://www1.barbacena.mg.gov.br/portal/noticias/3/32/0/0/0/0 - Texto <h1>: Ir para o conteúdo\n",
      "URL: https://www1.barbacena.mg.gov.br/portal/noticias/0/3/1698/prefeitura-realizara-terceira-edicao-do-casamento-comunitario/ - Texto <h1>: Ir para o conteúdo\n",
      "URL: https://www1.barbacena.mg.gov.br/portal/noticias/3/2/0/0/0/0 - Texto <h1>: Ir para o conteúdo\n",
      "URL: https://www1.barbacena.mg.gov.br/portal/noticias/0/3/1704/participe-da-acao-social-do-dia-mundial-da-saude/ - Texto <h1>: Ir para o conteúdo\n",
      "URL: https://www1.barbacena.mg.gov.br/portal/noticias/3 - Texto <h1>: Ir para o conteúdo\n",
      "URL: https://www1.barbacena.mg.gov.br/portal/noticias/0/3/1696/vamos-falar-sobre-o-transtorno-do-espectro-autista-tea/ - Texto <h1>: Ir para o conteúdo\n",
      "URL: https://www1.barbacena.mg.gov.br/portal/noticias/0/3/1678/escolas-de-barbacena-participam-de-jogos-de-futsal/ - Texto <h1>: Ir para o conteúdo\n",
      "URL: https://www1.barbacena.mg.gov.br/portal/noticias/0/3/1692/produto-sete-e-apresentado-na-audiencia-publica/ - Texto <h1>: Ir para o conteúdo\n",
      "URL: https://www1.barbacena.mg.gov.br/portal/noticias/0/3/1682/professores-de-barbacena-buscam-inovacao-e-qualidade-no-ensino-em-encontro-sobre-a-coordenacao-pedagogica/ - Texto <h1>: Ir para o conteúdo\n",
      "URL: https://www1.barbacena.mg.gov.br/portal/noticias/0/3/1677/defesa-civil-divulga-boletim/ - Texto <h1>: Ir para o conteúdo\n",
      "URL: https://www1.barbacena.mg.gov.br/portal/noticias/0/3/1701/barbacena-realiza-os-jogos-escolares-municipais/ - Texto <h1>: Ir para o conteúdo\n",
      "URL: https://www1.barbacena.mg.gov.br/portal/diario-oficial/ver/2420/ - Texto <h1>: Ir para o conteúdo\n",
      "URL: https://www1.barbacena.mg.gov.br/portal/diario-oficial/ver/2420/#conteudo_esquerda - Texto <h1>: Ir para o conteúdo\n",
      "URL: https://www1.barbacena.mg.gov.br/portal/agenda/0/4/1520/19-expo-senhora-das-dores - Texto <h1>: Ir para o conteúdo\n",
      "URL: https://www1.barbacena.mg.gov.br/portal/agenda/0/4/1519/seletiva-rainha-das-rosas-e-flores-de-barbacena-2024 - Texto <h1>: Ir para o conteúdo\n",
      "URL: https://www1.barbacena.mg.gov.br/portal/agenda/0/4/1520/%20https:/e-gov.betha.com.br/cdweb/resource.faces?params=hlBNABSOaBFoPP-I0ySzJw== - Texto <h1>: Ir para o conteúdo\n"
     ]
    },
    {
     "name": "stderr",
     "output_type": "stream",
     "text": [
      "Some characters could not be decoded, and were replaced with REPLACEMENT CHARACTER.\n"
     ]
    },
    {
     "name": "stdout",
     "output_type": "stream",
     "text": [
      "URL: https://www1.barbacena.mg.gov.br/portal/agenda/0/4/1520/19-expo-senhora-das-dores#conteudo_esquerda - Texto <h1>: Ir para o conteúdo\n",
      "Erro ao acessar tel:(32)3198-1000: No connection adapters were found for 'tel:(32)3198-1000'\n",
      "URL: https://www1.barbacena.mg.gov.br/portal/agenda/0/4/1521/2-festival-da-colonia - Texto <h1>: Ir para o conteúdo\n",
      "URL: https://www1.barbacena.mg.gov.br/portal/turismo/0/9/1480/praca-dos-andradas---jardim-municipal - Texto <h1>: Ir para o conteúdo\n",
      "URL: https://www1.barbacena.mg.gov.br/portal/turismo/0/9/1479/praca-conde-de-prados---praca-do-globo - Texto <h1>: Ir para o conteúdo\n",
      "URL: https://www1.barbacena.mg.gov.br/portal/turismo/0/9/1463/usina-de-ilheus - Texto <h1>: Ir para o conteúdo\n"
     ]
    },
    {
     "name": "stderr",
     "output_type": "stream",
     "text": [
      "Some characters could not be decoded, and were replaced with REPLACEMENT CHARACTER.\n",
      "Some characters could not be decoded, and were replaced with REPLACEMENT CHARACTER.\n",
      "Some characters could not be decoded, and were replaced with REPLACEMENT CHARACTER.\n",
      "Some characters could not be decoded, and were replaced with REPLACEMENT CHARACTER.\n"
     ]
    },
    {
     "name": "stdout",
     "output_type": "stream",
     "text": [
      "URL: https://www1.barbacena.mg.gov.br/portal/turismo/0/9/1480/praca-dos-andradas---jardim-municipal#conteudo_esquerda - Texto <h1>: Ir para o conteúdo\n",
      "Erro ao acessar tel:(32)3198-1000: No connection adapters were found for 'tel:(32)3198-1000'\n",
      "URL: https://www1.barbacena.mg.gov.br/portal/turismo/0/9/1480/%20https:/e-gov.betha.com.br/cdweb/resource.faces?params=hlBNABSOaBFoPP-I0ySzJw== - Texto <h1>: Ir para o conteúdo\n",
      "URL: https://www1.barbacena.mg.gov.br/portal/0/galeria-de-videos/424/Audi%C3%AAncia%20P%C3%BAblica%20-%20Plano%20Diretor%20e%20de%20Mobilidade%20Urbana - Texto <h1>: Ir para o conteúdo\n",
      "URL: https://www1.barbacena.mg.gov.br/portal/0/galeria-de-videos/424/%20https:/e-gov.betha.com.br/cdweb/resource.faces?params=hlBNABSOaBFoPP-I0ySzJw== - Texto <h1>: Ir para o conteúdo\n",
      "URL: https://www1.barbacena.mg.gov.br/portal/0/galeria-de-videos/424/audiencia-publica---plano-diretor-e-de-mobilidade-urbana - Texto <h1>: Ir para o conteúdo\n",
      "Erro ao acessar tel:(32)3198-1000: No connection adapters were found for 'tel:(32)3198-1000'\n",
      "URL: https://www1.barbacena.mg.gov.br/portal/0/galeria-de-videos/424/Audi%C3%AAncia%20P%C3%BAblica%20-%20Plano%20Diretor%20e%20de%20Mobilidade%20Urbana#conteudo_esquerda - Texto <h1>: Ir para o conteúdo\n",
      "URL: https://www1.barbacena.mg.gov.br/portal/0/galeria-de-fotos/968/3-edicao-do-sonho-de-natal - Texto <h1>: Ir para o conteúdo\n"
     ]
    },
    {
     "name": "stderr",
     "output_type": "stream",
     "text": [
      "Some characters could not be decoded, and were replaced with REPLACEMENT CHARACTER.\n",
      "Some characters could not be decoded, and were replaced with REPLACEMENT CHARACTER.\n",
      "Some characters could not be decoded, and were replaced with REPLACEMENT CHARACTER.\n",
      "Some characters could not be decoded, and were replaced with REPLACEMENT CHARACTER.\n",
      "Some characters could not be decoded, and were replaced with REPLACEMENT CHARACTER.\n"
     ]
    },
    {
     "name": "stdout",
     "output_type": "stream",
     "text": [
      "Erro ao acessar tel:(32)3198-1000: No connection adapters were found for 'tel:(32)3198-1000'\n",
      "URL: https://www1.barbacena.mg.gov.br/portal/0/galeria-de-fotos/968/3-edicao-do-sonho-de-natal#conteudo_esquerda - Texto <h1>: Ir para o conteúdo\n"
     ]
    },
    {
     "name": "stderr",
     "output_type": "stream",
     "text": [
      "Some characters could not be decoded, and were replaced with REPLACEMENT CHARACTER.\n",
      "Some characters could not be decoded, and were replaced with REPLACEMENT CHARACTER.\n"
     ]
    },
    {
     "name": "stdout",
     "output_type": "stream",
     "text": [
      "URL: https://www1.barbacena.mg.gov.br/portal/0/galeria-de-fotos/968/%20https:/e-gov.betha.com.br/cdweb/resource.faces?params=hlBNABSOaBFoPP-I0ySzJw== - Texto <h1>: Ir para o conteúdo\n",
      "URL: https://www1.barbacena.mg.gov.br/portal/0/galeria-de-fotos/968/3-edicao-do-sonho-de-natal/ - Texto <h1>: Ir para o conteúdo\n"
     ]
    },
    {
     "name": "stderr",
     "output_type": "stream",
     "text": [
      "Some characters could not be decoded, and were replaced with REPLACEMENT CHARACTER.\n",
      "Some characters could not be decoded, and were replaced with REPLACEMENT CHARACTER.\n",
      "Some characters could not be decoded, and were replaced with REPLACEMENT CHARACTER.\n",
      "Some characters could not be decoded, and were replaced with REPLACEMENT CHARACTER.\n"
     ]
    },
    {
     "name": "stdout",
     "output_type": "stream",
     "text": [
      "URL: https://www1.barbacena.mg.gov.br/#e_conteudo - Texto <h1>: Ir para o conteúdo\n",
      "URL: https://www1.barbacena.mg.gov.br/portal/secretarias - Texto <h1>: Ir para o conteúdo\n",
      "URL: https://www1.barbacena.mg.gov.br/portal/galeria-de-fotos - Texto <h1>: Ir para o conteúdo\n",
      "Erro ao acessar tel:(32)3198-1000: No connection adapters were found for 'tel:(32)3198-1000'\n",
      "URL: https://www1.barbacena.mg.gov.br/portal/galeria-de-videos - Texto <h1>: Ir para o conteúdo\n",
      "URL: https://www.barbacena.mg.gov.br/noticia?id=10316 - Texto <h1>: Participe do Plano Municipal de Saneamento Básico\n",
      "URL: https://www1.barbacena.mg.gov.br/covid-19-boletim - Texto <h1>: Ir para o conteúdo\n",
      "URL: https://www1.barbacena.mg.gov.br/portal/turismo/0/9/1457/memorial-beata-isabel-cristina - Texto <h1>: Ir para o conteúdo\n",
      "URL: https://www1.barbacena.mg.gov.br/portal/turismo/0/9/1474/matriz-nossa-senhora-da-piedade - Texto <h1>: Ir para o conteúdo\n",
      "URL: https://www1.barbacena.mg.gov.br/portal/diario-oficial/ver/2419/ - Texto <h1>: Ir para o conteúdo\n",
      "URL: https://www1.barbacena.mg.gov.br/portal/servicos/1031/cadastro-municipal-para-a-educacao-infantil-2023/ - Texto <h1>: Ir para o conteúdo\n",
      "URL: https://www1.barbacena.mg.gov.br/portal/diario-oficial/ver/2423/ - Texto <h1>: Ir para o conteúdo\n"
     ]
    }
   ],
   "source": [
    "import requests\n",
    "from bs4 import BeautifulSoup\n",
    "from urllib.parse import urljoin\n",
    "\n",
    "class Coletor:\n",
    "\n",
    "    def __init__(self, urls):\n",
    "        self.urls_iniciais = urls\n",
    "        self.visitados = set()\n",
    "\n",
    "    def extrair_links(self, soup, url_base):\n",
    "        \"\"\"Extrai e retorna todos os links válidos encontrados na página.\"\"\"\n",
    "        links = set()\n",
    "        for link in soup.find_all('a', href=True):\n",
    "            href = link['href']\n",
    "            if not href.startswith('http'):\n",
    "                href = urljoin(url_base, href)\n",
    "            if href not in self.visitados:\n",
    "                links.add(href)\n",
    "        return links\n",
    "\n",
    "    def processar_url(self, url, profundidade, max_profundidade):\n",
    "        if profundidade > max_profundidade:\n",
    "            return\n",
    "        try:\n",
    "            response = requests.get(url, allow_redirects=True)\n",
    "            final_url = response.url  # Endereço final após redirecionamentos\n",
    "\n",
    "            if final_url not in self.visitados:\n",
    "                self.visitados.add(final_url)\n",
    "                soup = BeautifulSoup(response.content, 'html.parser')\n",
    "\n",
    "                # Imprime textos das tags <h1>\n",
    "                for texto in soup.find_all('h1'):\n",
    "                    print(f\"URL: {final_url} - Texto <h1>: {texto.get_text(strip=True)}\")\n",
    "\n",
    "                # Extrai novos links e os processa\n",
    "                novos_links = self.extrair_links(soup, final_url)\n",
    "                for novo_link in novos_links:\n",
    "                    self.processar_url(novo_link, profundidade + 1, max_profundidade)\n",
    "\n",
    "        except requests.RequestException as e:\n",
    "            print(f\"Erro ao acessar {url}: {e}\")\n",
    "\n",
    "    def iniciar_coleta(self, max_profundidade=1):\n",
    "        for url in self.urls_iniciais:\n",
    "            self.processar_url(url, 0, max_profundidade)\n",
    "\n",
    "# URLs iniciais para coleta\n",
    "urls = [\n",
    "    \"https://www.mariana.mg.gov.br/\",\n",
    "    \"https://www1.barbacena.mg.gov.br/\"\n",
    "]\n",
    "\n",
    "coletor = Coletor(urls)\n",
    "coletor.iniciar_coleta(max_profundidade=2)  \n"
   ]
  },
  {
   "cell_type": "code",
   "execution_count": 4,
   "metadata": {},
   "outputs": [
    {
     "name": "stdout",
     "output_type": "stream",
     "text": [
      "Collecting chardetNote: you may need to restart the kernel to use updated packages.\n",
      "\n",
      "  Downloading chardet-5.2.0-py3-none-any.whl (199 kB)\n",
      "                                              0.0/199.4 kB ? eta -:--:--\n",
      "     ------                                  30.7/199.4 kB 1.4 MB/s eta 0:00:01\n",
      "     ---------------                       81.9/199.4 kB 919.0 kB/s eta 0:00:01\n",
      "     ---------------------------            143.4/199.4 kB 1.2 MB/s eta 0:00:01\n",
      "     ---------------------------            143.4/199.4 kB 1.2 MB/s eta 0:00:01\n",
      "     -----------------------------------  194.6/199.4 kB 908.0 kB/s eta 0:00:01\n",
      "     ------------------------------------ 199.4/199.4 kB 756.6 kB/s eta 0:00:00\n",
      "Installing collected packages: chardet\n",
      "Successfully installed chardet-5.2.0\n"
     ]
    }
   ],
   "source": [
    "pip install chardet\n"
   ]
  },
  {
   "cell_type": "code",
   "execution_count": 8,
   "metadata": {},
   "outputs": [
    {
     "name": "stdout",
     "output_type": "stream",
     "text": [
      "Índice Invertido:\n",
      "mariana: defaultdict(<class 'float'>, {'https://www.mariana.mg.gov.br/': 0.2})\n",
      "conteúdo: defaultdict(<class 'float'>, {'https://www.mariana.mg.gov.br/': 0.2, 'https://www1.barbacena.mg.gov.br/': 0.2})\n",
      "página: defaultdict(<class 'float'>, {'https://www.mariana.mg.gov.br/': 0.2, 'https://www1.barbacena.mg.gov.br/': 0.2})\n",
      "barbacena: defaultdict(<class 'float'>, {'https://www1.barbacena.mg.gov.br/': 0.2})\n",
      "Total de documentos indexados: 2\n",
      "\n",
      "Documentos indexados:\n",
      "URL: https://www.mariana.mg.gov.br/\n",
      "Palavras: ['conteúdo', 'página', 'mariana']\n",
      "Encoding: utf-8\n",
      "\n",
      "URL: https://www1.barbacena.mg.gov.br/\n",
      "Palavras: ['conteúdo', 'página', 'barbacena']\n",
      "Encoding: utf-8\n",
      "\n"
     ]
    }
   ],
   "source": [
    "\n",
    "\n",
    "        for palavra in palavras_unicas:\n",
    "            forca_palavra = self.avaliar_forca_palavra(palavra, conteudo)\n",
    "            self.indice_invertido[palavra][url] += forca_palavra\n",
    "        \n",
    "        self.documentos[url]['palavras'] = palavras\n",
    "        self.documentos[url]['encoding'] = encoding\n",
    "        self.total_documentos += 1\n",
    "\n",
    "    def avaliar_forca_palavra(self, palavra, conteudo):\n",
    "\n",
    "        num_palavras = len(conteudo.split())\n",
    "        if num_palavras == 0:\n",
    "            return 0.0\n",
    "        return 1 / num_palavras\n",
    "\n",
    "\n",
    "if __name__ == \"__main__\":\n",
    "    indexador = Indexador()\n",
    "\n",
    "\n",
    "    urls_conteudos = {\n",
    "        \"https://www.mariana.mg.gov.br/\": \"Conteúdo da página de Mariana\",\n",
    "        \"https://www1.barbacena.mg.gov.br/\": \"Conteúdo da página de Barbacena\"\n",
    "    }\n",
    "\n",
    "    for url, conteudo in urls_conteudos.items():\n",
    "        indexador.adicionar_documento(url, conteudo)\n",
    "\n",
    "    print(\"Índice Invertido:\")\n",
    "    for palavra, ocorrencias in indexador.indice_invertido.items():\n",
    "        print(f\"{palavra}: {ocorrencias}\")\n",
    "\n",
    "    print(f\"Total de documentos indexados: {indexador.total_documentos}\")\n",
    "\n",
    "    print(\"\\nDocumentos indexados:\")\n",
    "    for url, info in indexador.documentos.items():\n",
    "        print(f\"URL: {url}\")\n",
    "        print(f\"Palavras: {info['palavras']}\")\n",
    "        print(f\"Encoding: {info['encoding']}\")\n",
    "        print()\n",
    "     "
   ]
  },
  {
   "cell_type": "code",
   "execution_count": 9,
   "metadata": {},
   "outputs": [],
   "source": [
    "class Buscador:\n",
    "    def __init__(self, indexador):\n",
    "        \"\"\"\n",
    "        Inicializa o buscador com um indexador.\n",
    "        :param indexador: Uma instância da classe Indexador.\n",
    "        \"\"\"\n",
    "        self.indexador = indexador\n",
    "\n",
    "    def buscar(self, palavras_busca):\n",
    "        \"\"\"\n",
    "        Realiza uma busca por múltiplas palavras-chave e retorna os documentos\n",
    "        que contêm essas palavras, junto com a força da busca.\n",
    "        :param palavras_busca: Lista de palavras-chave a serem buscadas.\n",
    "        :return: Um dicionário com URLs dos documentos e a força da busca.\n",
    "        \"\"\"\n",
    "        resultados = defaultdict(float)\n",
    "        for palavra in palavras_busca:\n",
    "            if palavra in self.indexador.indice_invertido:\n",
    "                for url, forca in self.indexador.indice_invertido[palavra].items():\n",
    "                    resultados[url] += forca\n",
    "        return resultados\n"
   ]
  },
  {
   "cell_type": "code",
   "execution_count": 11,
   "metadata": {},
   "outputs": [
    {
     "name": "stdout",
     "output_type": "stream",
     "text": [
      "\n",
      "Resultados da busca por 'impostos' e 'tributos':\n",
      "URL: https://www.mariana.mg.gov.br/, Força da busca: 0.18181818181818182\n",
      "URL: https://www1.barbacena.mg.gov.br/, Força da busca: 0.14285714285714285\n"
     ]
    }
   ],
   "source": [
    "if __name__ == \"__main__\":\n",
    "    # Inicialização e preenchimento do indexador com documentos.\n",
    "    indexador = Indexador()\n",
    "\n",
    "    # Substituição dos exemplos de URLs por URLs fornecidas.\n",
    "    urls_conteudos = {\n",
    "        \"https://www.mariana.mg.gov.br/\": \"Conteúdo simulado de Mariana, incluindo informações sobre impostos e tributos locais.\",\n",
    "        \"https://www1.barbacena.mg.gov.br/\": \"Conteúdo simulado de Barbacena, destacando serviços municipais sem menção direta a impostos ou tributos.\"\n",
    "    }\n",
    "\n",
    "    for url, conteudo in urls_conteudos.items():\n",
    "        indexador.adicionar_documento(url, conteudo)\n",
    "\n",
    "    # Inicialização do buscador com o indexador preenchido.\n",
    "    buscador = Buscador(indexador)\n",
    "\n",
    "    # Realização da busca.\n",
    "    palavras_busca = [\"impostos\", \"tributos\"]\n",
    "    resultados = buscador.buscar(palavras_busca)\n",
    "\n",
    "    # Exibição dos resultados.\n",
    "    print(\"\\nResultados da busca por 'impostos' e 'tributos':\")\n",
    "    for url, forca in resultados.items():\n",
    "        print(f\"URL: {url}, Força da busca: {forca}\")\n"
   ]
  },
  {
   "cell_type": "code",
   "execution_count": null,
   "metadata": {},
   "outputs": [],
   "source": []
  }
 ],
 "metadata": {
  "kernelspec": {
   "display_name": "Python 3",
   "language": "python",
   "name": "python3"
  },
  "language_info": {
   "codemirror_mode": {
    "name": "ipython",
    "version": 3
   },
   "file_extension": ".py",
   "mimetype": "text/x-python",
   "name": "python",
   "nbconvert_exporter": "python",
   "pygments_lexer": "ipython3",
   "version": "3.11.3"
  }
 },
 "nbformat": 4,
 "nbformat_minor": 2
}
